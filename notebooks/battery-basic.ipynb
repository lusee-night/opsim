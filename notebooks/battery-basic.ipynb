{
 "cells": [
  {
   "cell_type": "code",
   "execution_count": 1,
   "metadata": {},
   "outputs": [],
   "source": [
    "# Jupyter magic for autoreload:\n",
    "%reload_ext autoreload\n",
    "%autoreload 2\n",
    "\n",
    "# Basic dependencies:\n",
    "import  numpy as np\n",
    "import  matplotlib.pyplot as plt\n"
   ]
  },
  {
   "cell_type": "code",
   "execution_count": 2,
   "metadata": {},
   "outputs": [],
   "source": [
    "# load the packages being tested:\n",
    "\n",
    "import bms\n",
    "\n",
    "from bms.parts import *\n",
    "from nav.coordinates import *\n",
    "\n"
   ]
  },
  {
   "cell_type": "code",
   "execution_count": 3,
   "metadata": {},
   "outputs": [
    {
     "name": "stdout",
     "output_type": "stream",
     "text": [
      "Battery voltage: 11.6\n",
      "Battery voltage from controller: 11.6\n",
      "Battery voltage from controller: 10.1\n"
     ]
    }
   ],
   "source": [
    "# Battery, devices\n",
    "battery = Battery(11.6) \n",
    "print('Battery voltage:', battery.voltage)\n",
    "\n",
    "ctr = Controller(battery)\n",
    "print('Battery voltage from controller:', ctr.battery.voltage)\n",
    "\n",
    "battery.set_voltage(10.1)\n",
    "print('Battery voltage from controller:', ctr.battery.voltage)\n"
   ]
  }
 ],
 "metadata": {
  "kernelspec": {
   "display_name": "lusee",
   "language": "python",
   "name": "python3"
  },
  "language_info": {
   "codemirror_mode": {
    "name": "ipython",
    "version": 3
   },
   "file_extension": ".py",
   "mimetype": "text/x-python",
   "name": "python",
   "nbconvert_exporter": "python",
   "pygments_lexer": "ipython3",
   "version": "3.10.0"
  },
  "orig_nbformat": 4
 },
 "nbformat": 4,
 "nbformat_minor": 2
}
