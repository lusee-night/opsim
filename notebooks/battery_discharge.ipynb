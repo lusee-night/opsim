{
 "cells": [
  {
   "cell_type": "code",
   "execution_count": 1,
   "metadata": {},
   "outputs": [],
   "source": [
    "import  os, sys\n",
    "import  matplotlib.pyplot as plt\n",
    "import yaml\n",
    "\n",
    "sys.path.append('../')  # Add parent dir to path\n",
    "\n",
    "import hardware"
   ]
  },
  {
   "cell_type": "code",
   "execution_count": 2,
   "metadata": {},
   "outputs": [
    {
     "name": "stdout",
     "output_type": "stream",
     "text": [
      "{'initial': 228.9405, 'capacity': 240.99, 'capacity_fade': 0.0063, 'self_discharge': 0.01, 'VOC_table': '../data/hardware/battery/battery_VOC.dat', 'VOC_table_cols': 'SOC VOC@0 R@0 VOC@20 R@20 VOC@40 R@40'}\n"
     ]
    }
   ],
   "source": [
    "\n",
    "\n",
    "config = yaml.safe_load(open('../config/devices.yml','r'))\n",
    "config = config['battery']\n",
    "config['initial']=config['capacity']*0.95 # start with full \n",
    "print(config)\n"
   ]
  },
  {
   "cell_type": "code",
   "execution_count": 3,
   "metadata": {},
   "outputs": [
    {
     "name": "stdout",
     "output_type": "stream",
     "text": [
      "Total energy at 0 C: 6422.333333333333 Wh\n",
      "Total energy at 20 C: 6417.333333333333 Wh\n",
      "Total energy at 40 C: 6414.0 Wh\n"
     ]
    }
   ],
   "source": [
    "for T in [0,20,40]:\n",
    "    B = hardware.Battery(None,config, verbose=False)\n",
    "    B.set_temperature(T)\n",
    "    energy = 0\n",
    "    P = 20\n",
    "    deltaT = 10\n",
    "    while (B.SOC()>0.05):\n",
    "        B.apply_power(-P,deltaT) # discharge at 1W\n",
    "        energy += deltaT*P\n",
    "        #print ('SOC:',B.SOC())\n",
    "    print ('Total energy at',T,'C:',energy/3600,'Wh')\n",
    "\n"
   ]
  },
  {
   "cell_type": "code",
   "execution_count": null,
   "metadata": {},
   "outputs": [],
   "source": []
  }
 ],
 "metadata": {
  "kernelspec": {
   "display_name": "Python 3 (ipykernel)",
   "language": "python",
   "name": "python3"
  },
  "language_info": {
   "codemirror_mode": {
    "name": "ipython",
    "version": 3
   },
   "file_extension": ".py",
   "mimetype": "text/x-python",
   "name": "python",
   "nbconvert_exporter": "python",
   "pygments_lexer": "ipython3",
   "version": "3.10.1"
  }
 },
 "nbformat": 4,
 "nbformat_minor": 2
}
