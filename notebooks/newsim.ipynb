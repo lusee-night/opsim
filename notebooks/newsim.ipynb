{
 "cells": [
  {
   "cell_type": "markdown",
   "metadata": {},
   "source": [
    "# OpSim -- the updated simulation notebook\n",
    "\n",
    "## About\n",
    "\n",
    "This notebook is for testing of the OpSim functionality.\n",
    "Data is read from prefabricated files containing the Sun and the two Satellites' positions as time series. The data is stored and read in the HDF5 format."
   ]
  },
  {
   "cell_type": "code",
   "execution_count": 1,
   "metadata": {},
   "outputs": [
    {
     "name": "stdout",
     "output_type": "stream",
     "text": [
      "---------------------------------- PATH ----------------------------------------\n",
      "/home/maxim/projects/lusee/opsim/notebooks\n",
      "/home/maxim/projects/lusee/luseepy\n",
      "/home/maxim/projects/lusee/opsim\n",
      "/home/maxim/.virtualenvs/lusee/lib/python3.10/site-packages/backports\n",
      "/usr/local/lib/python310.zip\n",
      "/usr/local/lib/python3.10\n",
      "/usr/local/lib/python3.10/lib-dynload\n",
      "/home/maxim/.virtualenvs/lusee-simpy/lib/python3.10/site-packages\n",
      "--------------------------------- VERSIONS -------------------------------------\n",
      "simpy: 4.0.2, lusee: 1.2-dev, sim: 0.1\n",
      "Shape of the data payload: (17760, 7)\n",
      "Created a Battery with initial charge: 100.0, capacity: 1200.0\n",
      "Initial time in ticks: 1548, mjd: 60726.125, datetime: 2025-02-20 03:00:00\n",
      "Until time in ticks: 11465, mjd: 60829.427083333336, datetime: 2025-06-03 10:15:00\n",
      "{60726.125: 1, 60740.0: 2, 60756.0: 3, 60770.0: 4, 60785.0: 5, 60800.0: 6}\n"
     ]
    }
   ],
   "source": [
    "# Jupyter magic for autoreload:\n",
    "%reload_ext autoreload\n",
    "%autoreload 2\n",
    "\n",
    "# Standard imports and utility ---\n",
    "import  os, sys\n",
    "\n",
    "import  numpy as np\n",
    "import  yaml\n",
    "import  matplotlib.pyplot as plt\n",
    "import  simpy\n",
    "\n",
    "# ---------------------------------------------------------\n",
    "import  lusee        # Core lusee software\n",
    "import  nav          # Astro/observation wrapper classes\n",
    "from    nav import *\n",
    "from    utils.timeconv import *\n",
    "\n",
    "import  sim          # Main simulation handler\n",
    "from    sim import Simulator\n",
    "\n",
    "print(\"---------------------------------- PATH ----------------------------------------\")\n",
    "for path_part in sys.path:\n",
    "    if path_part!='': print(f'''{path_part}''')\n",
    "\n",
    "\n",
    "\n",
    "print('--------------------------------- VERSIONS -------------------------------------')\n",
    "print(f'''simpy: {simpy.__version__}, lusee: {lusee.__version__}, sim: {sim.__version__}''')\n",
    "\n",
    "# Define paths in one place:\n",
    "orbitals    = \"../data/20250204-20250807.hdf5\"\n",
    "modes       = \"../config/modes.yml\"\n",
    "devices     = \"../config/devices.yml\"\n",
    "\n",
    "# comtable    = \"../config/comtable-20250204-20250807-new.yml\"\n",
    "comtable    = \"./simulator_log.yml\"\n",
    "\n",
    "initial_time=1548\n",
    "until=11465\n",
    "\n",
    "smltr = Simulator(orbitals, modes, devices, comtable, initial_time=initial_time, until=until)\n",
    "\n",
    "mjd_start   = smltr.sun.mjd[initial_time]\n",
    "mjd_end     = smltr.sun.mjd[until]\n",
    "\n",
    "print(f'''Initial time in ticks: {initial_time}, mjd: {mjd_start}, datetime: {mjd2dt(mjd_start)}''')\n",
    "print(f'''Until time in ticks: {until}, mjd: {mjd_end}, datetime: {mjd2dt(mjd_end)}''')\n",
    "\n",
    "print(smltr.schedule)\n",
    "\n",
    "# OPTIONAL\n",
    "# smltr.info()"
   ]
  },
  {
   "cell_type": "markdown",
   "metadata": {},
   "source": [
    "---\n",
    "\n",
    "### Run the simulation"
   ]
  },
  {
   "cell_type": "code",
   "execution_count": 2,
   "metadata": {},
   "outputs": [
    {
     "name": "stdout",
     "output_type": "stream",
     "text": [
      "Clock:60726.125, mode: charge\n",
      "Device states: {'spectrometer': 'OFF', 'comms': 'OFF', 'bms': 'ON', 'controller': 'ON'}\n",
      "Device:spectrometer,   \tstate:OFF,\tcurrent:0.0\n",
      "Device:comms,          \tstate:OFF,\tcurrent:0.0\n",
      "Device:bms,            \tstate:ON,\tcurrent:0.1\n",
      "Device:controller,     \tstate:ON,\tcurrent:0.3\n",
      "*** Total current: 0.4\n",
      "Clock:60740.0, mode: powersave\n",
      "Device states: {'spectrometer': 'OFF', 'comms': 'OFF', 'bms': 'OFF', 'controller': 'ON'}\n",
      "Device:spectrometer,   \tstate:OFF,\tcurrent:0.0\n",
      "Device:comms,          \tstate:OFF,\tcurrent:0.0\n",
      "Device:bms,            \tstate:OFF,\tcurrent:0.0\n",
      "Device:controller,     \tstate:ON,\tcurrent:0.3\n",
      "*** Total current: 0.3\n",
      "Clock:60756.0, mode: charge\n",
      "Device states: {'spectrometer': 'OFF', 'comms': 'OFF', 'bms': 'ON', 'controller': 'ON'}\n",
      "Device:spectrometer,   \tstate:OFF,\tcurrent:0.0\n",
      "Device:comms,          \tstate:OFF,\tcurrent:0.0\n",
      "Device:bms,            \tstate:ON,\tcurrent:0.1\n",
      "Device:controller,     \tstate:ON,\tcurrent:0.3\n",
      "*** Total current: 0.4\n",
      "Clock:60770.0, mode: science\n",
      "Device states: {'spectrometer': 'ON', 'comms': 'OFF', 'bms': 'OFF', 'controller': 'ON'}\n",
      "Device:spectrometer,   \tstate:ON,\tcurrent:0.5\n",
      "Device:comms,          \tstate:OFF,\tcurrent:0.0\n",
      "Device:bms,            \tstate:OFF,\tcurrent:0.0\n",
      "Device:controller,     \tstate:ON,\tcurrent:0.3\n",
      "*** Total current: 0.8\n",
      "Clock:60785.0, mode: charge\n",
      "Device states: {'spectrometer': 'OFF', 'comms': 'OFF', 'bms': 'ON', 'controller': 'ON'}\n",
      "Device:spectrometer,   \tstate:OFF,\tcurrent:0.0\n",
      "Device:comms,          \tstate:OFF,\tcurrent:0.0\n",
      "Device:bms,            \tstate:ON,\tcurrent:0.1\n",
      "Device:controller,     \tstate:ON,\tcurrent:0.3\n",
      "*** Total current: 0.4\n",
      "Clock:60800.0, mode: powersave\n",
      "Device states: {'spectrometer': 'OFF', 'comms': 'OFF', 'bms': 'OFF', 'controller': 'ON'}\n",
      "Device:spectrometer,   \tstate:OFF,\tcurrent:0.0\n",
      "Device:comms,          \tstate:OFF,\tcurrent:0.0\n",
      "Device:bms,            \tstate:OFF,\tcurrent:0.0\n",
      "Device:controller,     \tstate:ON,\tcurrent:0.3\n",
      "*** Total current: 0.3\n"
     ]
    }
   ],
   "source": [
    "# Set verbose if needed:\n",
    "smltr.verbose = True\n",
    "smltr.simulate()\n",
    "smltr.save_record()"
   ]
  },
  {
   "cell_type": "markdown",
   "metadata": {},
   "source": [
    "---\n",
    "\n",
    "### Plot the results"
   ]
  },
  {
   "cell_type": "code",
   "execution_count": 3,
   "metadata": {},
   "outputs": [
    {
     "data": {
      "image/png": "[encoded data removed]",
      "text/plain": [
       "<Figure size 640x480 with 2 Axes>"
      ]
     },
     "metadata": {},
     "output_type": "display_data"
    }
   ],
   "source": [
    "fig, (p1, p2) = plt.subplots(1,2)\n",
    "fig.suptitle('Simulation', fontsize=20)\n",
    "plt.rcParams[\"figure.figsize\"] = [6., 4.]\n",
    "# plt.rcParams[\"figure.autolayout\"] = True\n",
    "\n",
    "\n",
    "p1.set_xlabel('Time (MJD)')\n",
    "p1.set_ylabel('Battery Charge')\n",
    "\n",
    "p2.set_xlabel('Time (MJD)')\n",
    "p2.set_ylabel('Current drawn by the hardware')\n",
    "\n",
    "mjd = smltr.sun.mjd\n",
    "p1.plot(mjd, smltr.monitor.battery,  color=\"blue\",   label=\"Battery\")\n",
    "p2.plot(mjd, smltr.monitor.current, color=\"red\",    label=\"Current drawn (a.u.)\")\n",
    "\n",
    "\n",
    "xlo = mjd[smltr.initial_time]\n",
    "xhi = mjd[smltr.until] - 1\n",
    "\n",
    "p1.set_xlim([xlo, xhi])\n",
    "p2.set_xlim([xlo, xhi])\n",
    "\n",
    "p1.grid(True)\n",
    "p2.grid(True)\n",
    "\n",
    "plt.show()\n",
    "\n",
    "\n",
    "\n"
   ]
  },
  {
   "cell_type": "code",
   "execution_count": null,
   "metadata": {},
   "outputs": [],
   "source": [
    "# Keep a cell for debugging:\n",
    "# for c in smltr.monitor.current:\n",
    "#    print(c)"
   ]
  },
  {
   "cell_type": "markdown",
   "metadata": {},
   "source": []
  },
  {
   "cell_type": "markdown",
   "metadata": {},
   "source": [
    "---\n",
    "\n",
    "### Optional -- some graphs.\n",
    "\n"
   ]
  },
  {
   "cell_type": "code",
   "execution_count": null,
   "metadata": {},
   "outputs": [],
   "source": [
    "# OPTIONAL PLOTS\n",
    "\n",
    "plt.rcParams[\"figure.figsize\"] = [15., 5.]\n",
    "\n",
    "# Get a handle on the sun and the satellite, in case needed for diagnostics\n",
    "mySun = smltr.sun\n",
    "myLpf = smltr.lpf\n",
    "myBge = smltr.bge\n",
    "\n",
    "print(mySun.N)\n",
    "\n",
    "fig, (p1, p2, p3) = plt.subplots(1,3)\n",
    "\n",
    "fig.suptitle('The Sun and the Sats', fontsize=20)\n",
    "plt.rcParams[\"figure.figsize\"] = [20., 8.]\n",
    "plt.rcParams[\"figure.autolayout\"] = True\n",
    "\n",
    "\n",
    "p1.set_xlabel('Time (MJD)')\n",
    "p2.set_xlabel('Time (MJD)')\n",
    "\n",
    "p1.plot(myLpf.mjd, myLpf.alt,  color=\"orange\", label=\"Lpf Alt\")\n",
    "p1.plot(mySun.mjd, mySun.alt,  color=\"blue\",   label=\"Sun Alt\")\n",
    "\n",
    "p2.plot(myLpf.mjd, myLpf.az, color=\"magenta\",label=\"Lpf Az\")\n",
    "p2.plot(mySun.mjd, mySun.az, color=\"red\",    label=\"Sun Az\")\n",
    "\n",
    "\n",
    "p3.plot(myLpf.mjd, myLpf.alt,  color=\"blue\", label=\"Lpf Alt\")\n",
    "p3.plot(myBge.mjd, myBge.alt,  color=\"orange\", label=\"Bge Alt\")\n",
    "\n",
    "p1.grid(True)\n",
    "_ = p1.legend()\n",
    "\n",
    "p2.grid(True)\n",
    "_ = p2.legend()\n",
    "\n",
    "p3.grid(True)\n",
    "_ = p3.legend()"
   ]
  },
  {
   "cell_type": "code",
   "execution_count": null,
   "metadata": {},
   "outputs": [],
   "source": [
    "# OPTIONAL\n",
    "\n",
    "print(f'''Sunrise: {mySun.sunrise}''')\n",
    "\n",
    "plt.rcParams[\"figure.figsize\"] = [10., 10.]\n",
    "# plt.rcParams[\"figure.autolayout\"] = True\n",
    "\n",
    "ax=plt.subplot()\n",
    "\n",
    "ax.plot(mySun.mjd, smltr.controller.power*100.,  color=\"red\",    label=\"Panel power*100\")\n",
    "ax.grid(True)\n"
   ]
  }
 ],
 "metadata": {
  "kernelspec": {
   "display_name": "lusee-simpy",
   "language": "python",
   "name": "python3"
  },
  "language_info": {
   "codemirror_mode": {
    "name": "ipython",
    "version": 3
   },
   "file_extension": ".py",
   "mimetype": "text/x-python",
   "name": "python",
   "nbconvert_exporter": "python",
   "pygments_lexer": "ipython3",
   "version": "3.10.0"
  },
  "orig_nbformat": 4
 },
 "nbformat": 4,
 "nbformat_minor": 2
}
