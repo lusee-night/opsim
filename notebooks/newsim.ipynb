{
 "cells": [
  {
   "cell_type": "markdown",
   "metadata": {},
   "source": [
    "# OpSim -- the updated simulation notebook\n",
    "\n",
    "## About\n",
    "\n",
    "This notebook is for testing of the OpSim functionality.\n",
    "Data is read from prefabricated files containing the Sun and the two Satellites' positions as time series. The data is stored and read in the HDF5 format."
   ]
  },
  {
   "cell_type": "code",
   "execution_count": 1,
   "metadata": {},
   "outputs": [
    {
     "name": "stdout",
     "output_type": "stream",
     "text": [
      "---------------------------------- PATH ----------------------------------------\n",
      "/home/maxim/projects/lusee/opsim/notebooks\n",
      "/home/maxim/projects/lusee/luseepy\n",
      "/home/maxim/projects/lusee/opsim\n",
      "/home/maxim/.virtualenvs/lusee/lib/python3.10/site-packages/backports\n",
      "/usr/local/lib/python310.zip\n",
      "/usr/local/lib/python3.10\n",
      "/usr/local/lib/python3.10/lib-dynload\n",
      "/home/maxim/.virtualenvs/lusee-simpy/lib/python3.10/site-packages\n",
      "--------------------------------- VERSIONS -------------------------------------\n",
      "simpy: 4.0.2, lusee: 1.2-dev, sim: 0.1\n"
     ]
    }
   ],
   "source": [
    "# Jupyter magic for autoreload:\n",
    "%reload_ext autoreload\n",
    "%autoreload 2\n",
    "\n",
    "# Standard imports and utility ---\n",
    "import  os, sys\n",
    "\n",
    "import  numpy as np\n",
    "import  yaml\n",
    "import  matplotlib.pyplot as plt\n",
    "import  simpy\n",
    "\n",
    "# ---------------------------------------------------------\n",
    "import  lusee        # Core lusee software\n",
    "import  nav          # Astro/observation wrapper classes\n",
    "from    nav import *\n",
    "from    utils.timeconv import *\n",
    "\n",
    "import  sim          # Main simulation handler\n",
    "from    sim import Simulator\n",
    "\n",
    "print(\"---------------------------------- PATH ----------------------------------------\")\n",
    "for path_part in sys.path:\n",
    "    if path_part!='': print(f'''{path_part}''')\n",
    "\n",
    "\n",
    "\n",
    "print('--------------------------------- VERSIONS -------------------------------------')\n",
    "print(f'''simpy: {simpy.__version__}, lusee: {lusee.__version__}, sim: {sim.__version__}''')\n",
    "\n",
    "# Define paths in one place:\n",
    "orbitals    = \"../data/20250204-20250807.hdf5\"\n",
    "modes       = \"../config/modes.yml\"\n",
    "devices     = \"../config/devices.yml\"\n",
    "comtable    = \"../config/comtable-20250204-20250807-new.yml\""
   ]
  },
  {
   "cell_type": "code",
   "execution_count": 2,
   "metadata": {},
   "outputs": [
    {
     "name": "stdout",
     "output_type": "stream",
     "text": [
      "Shape of the data payload: (17760, 7)\n",
      "Created a Battery with initial charge: 100.0, capacity: 1200.0\n",
      "Initial time in ticks: 1548, mjd: 60726.125, datetime: 2025-02-20 03:00:00\n",
      "Until time in ticks: 11465, mjd: 60829.427083333336, datetime: 2025-06-03 10:15:00\n",
      "{60726.0: 1, 60740.0: 2, 60756.0: 3, 60770.0: 4}\n"
     ]
    }
   ],
   "source": [
    "initial_time=1548\n",
    "until=11465\n",
    "\n",
    "smltr = Simulator(orbitals, modes, devices, comtable, initial_time=initial_time, until=until)\n",
    "\n",
    "mjd_start   = smltr.sun.mjd[initial_time]\n",
    "mjd_end     = smltr.sun.mjd[until]\n",
    "\n",
    "print(f'''Initial time in ticks: {initial_time}, mjd: {mjd_start}, datetime: {mjd2dt(mjd_start)}''')\n",
    "print(f'''Until time in ticks: {until}, mjd: {mjd_end}, datetime: {mjd2dt(mjd_end)}''')\n",
    "\n",
    "print(smltr.schedule)"
   ]
  },
  {
   "cell_type": "code",
   "execution_count": 17,
   "metadata": {},
   "outputs": [
    {
     "name": "stdout",
     "output_type": "stream",
     "text": [
      "Orbitals file: ../data/20250204-20250807.hdf5\n",
      "------------------\n",
      "Modes file: ../config/modes.yml\n",
      "science\n",
      "\tspectrometer\n",
      "\t\tSCIENCE\n",
      "\tcomms\n",
      "\t\tOFF\n",
      "\tbms\n",
      "\t\tOFF\n",
      "\tcontroller\n",
      "\t\tON\n",
      "charge\n",
      "\tspectrometer\n",
      "\t\tOFF\n",
      "\tcomms\n",
      "\t\tOFF\n",
      "\tbms\n",
      "\t\tON\n",
      "\tcontroller\n",
      "\t\tON\n",
      "comms\n",
      "\tspectrometer\n",
      "\t\tOFF\n",
      "\tcomms\n",
      "\t\tON\n",
      "\tbms\n",
      "\t\tON\n",
      "\tcontroller\n",
      "\t\tON\n",
      "powersave\n",
      "\tspectrometer\n",
      "\t\tOFF\n",
      "\tcomms\n",
      "\t\tOFF\n",
      "\tbms\n",
      "\t\tOFF\n",
      "\tcontroller\n",
      "\t\tON\n",
      "\n",
      "------------------\n",
      "Devices file: ../config/devices.yml\n",
      "Device spectrometer state OFF current 0.0\n",
      "Device comms state OFF current 0.0\n",
      "Device bms state OFF current 0.0\n",
      "Device controller state OFF current 0.0\n",
      "------------------\n",
      "Comtable file: ../config/comtable-20250204-20250807-new.yml\n",
      "1\n",
      "\tstart\n",
      "\t\t60726.0\n",
      "\tmode\n",
      "\t\tcharge\n",
      "2\n",
      "\tstart\n",
      "\t\t60740.0\n",
      "\tmode\n",
      "\t\tpowersave\n",
      "3\n",
      "\tstart\n",
      "\t\t60756.0\n",
      "\tmode\n",
      "\t\tscience\n",
      "4\n",
      "\tstart\n",
      "\t\t60770.0\n",
      "\tmode\n",
      "\t\tpowersave\n",
      "\n",
      "------------------\n",
      "Day condition at start and end of the simulation: False, False\n"
     ]
    }
   ],
   "source": [
    "# OPTIONAL\n",
    "smltr.info()"
   ]
  },
  {
   "cell_type": "markdown",
   "metadata": {},
   "source": [
    "---\n",
    "\n",
    "### Optional -- some graphs.\n",
    "\n",
    "Can scroll down to run the sim\n"
   ]
  },
  {
   "cell_type": "code",
   "execution_count": null,
   "metadata": {},
   "outputs": [],
   "source": [
    "# OPTIONAL\n",
    "\n",
    "\n",
    "# Get a handle on the sun and the satellite, in case needed for diagnostics\n",
    "mySun = smltr.sun\n",
    "mySat = smltr.esa\n",
    "\n",
    "print(mySun.N)\n",
    "\n",
    "fig, (p1, p2) = plt.subplots(1,2)\n",
    "fig.suptitle('Simulation', fontsize=20)\n",
    "plt.rcParams[\"figure.figsize\"] = [20., 8.]\n",
    "plt.rcParams[\"figure.autolayout\"] = True\n",
    "\n",
    "\n",
    "p1.set_xlabel('Time (MJD)')\n",
    "p2.set_xlabel('Time (MJD)')\n",
    "\n",
    "p1.plot(mySat.mjd, mySat.alt,  color=\"orange\", label=\"Sat Alt\")\n",
    "p1.plot(mySun.mjd, mySun.alt,  color=\"blue\",   label=\"Sun Alt\")\n",
    "\n",
    "p2.plot(mySat.mjd, mySat.az, color=\"magenta\",label=\"Sat Az\")\n",
    "p2.plot(mySun.mjd, mySun.az, color=\"red\",    label=\"Sun Az\")\n",
    "\n",
    "\n",
    "p1.grid(True)\n",
    "_ = p1.legend()\n",
    "\n",
    "p2.grid(True)\n",
    "_ = p2.legend()\n"
   ]
  },
  {
   "cell_type": "code",
   "execution_count": null,
   "metadata": {},
   "outputs": [],
   "source": [
    "# OPTIONAL\n",
    "\n",
    "print(f'''Sunrise: {mySun.sunrise}''')\n",
    "\n",
    "plt.rcParams[\"figure.figsize\"] = [10., 10.]\n",
    "# plt.rcParams[\"figure.autolayout\"] = True\n",
    "\n",
    "ax=plt.subplot()\n",
    "\n",
    "ax.plot(mySun.mjd, smltr.controller.power*100.,  color=\"red\",    label=\"Panel power*100\")\n",
    "ax.grid(True)\n"
   ]
  },
  {
   "cell_type": "markdown",
   "metadata": {},
   "source": [
    "---\n",
    "\n",
    "### Run the simulation"
   ]
  },
  {
   "cell_type": "code",
   "execution_count": 3,
   "metadata": {},
   "outputs": [
    {
     "name": "stdout",
     "output_type": "stream",
     "text": [
      "60726.125 charge\n",
      "{'spectrometer': 'OFF', 'comms': 'OFF', 'bms': 'ON', 'controller': 'ON'}\n",
      "Device:spectrometer,   \tstate:OFF,\tcurrent:0.0\n",
      "Device:comms,          \tstate:OFF,\tcurrent:0.0\n",
      "Device:bms,            \tstate:ON,\tcurrent:0.1\n",
      "Device:controller,     \tstate:ON,\tcurrent:0.3\n",
      "*** Total current: 0.4\n",
      "60740.708333333336 powersave\n",
      "{'spectrometer': 'OFF', 'comms': 'OFF', 'bms': 'OFF', 'controller': 'ON'}\n",
      "Device:spectrometer,   \tstate:OFF,\tcurrent:0.0\n",
      "Device:comms,          \tstate:OFF,\tcurrent:0.0\n",
      "Device:bms,            \tstate:OFF,\tcurrent:0.0\n",
      "Device:controller,     \tstate:ON,\tcurrent:0.3\n",
      "*** Total current: 0.3\n",
      "60756.333333333336 science\n",
      "{'spectrometer': 'ON', 'comms': 'OFF', 'bms': 'OFF', 'controller': 'ON'}\n",
      "Device:spectrometer,   \tstate:ON,\tcurrent:0.5\n",
      "Device:comms,          \tstate:OFF,\tcurrent:0.0\n",
      "Device:bms,            \tstate:OFF,\tcurrent:0.0\n",
      "Device:controller,     \tstate:ON,\tcurrent:0.3\n",
      "*** Total current: 0.8\n",
      "60770.916666666664 powersave\n",
      "{'spectrometer': 'OFF', 'comms': 'OFF', 'bms': 'OFF', 'controller': 'ON'}\n",
      "Device:spectrometer,   \tstate:OFF,\tcurrent:0.0\n",
      "Device:comms,          \tstate:OFF,\tcurrent:0.0\n",
      "Device:bms,            \tstate:OFF,\tcurrent:0.0\n",
      "Device:controller,     \tstate:ON,\tcurrent:0.3\n",
      "*** Total current: 0.3\n"
     ]
    }
   ],
   "source": [
    "# smltr.env.process(smltr.run())\n",
    "smltr.simulate()"
   ]
  },
  {
   "cell_type": "markdown",
   "metadata": {},
   "source": [
    "---\n",
    "\n",
    "### Plot the results"
   ]
  },
  {
   "cell_type": "code",
   "execution_count": 11,
   "metadata": {},
   "outputs": [
    {
     "data": {
      "image/png": "[encoded data removed]",
      "text/plain": [
       "<Figure size 2000x800 with 2 Axes>"
      ]
     },
     "metadata": {},
     "output_type": "display_data"
    }
   ],
   "source": [
    "fig, (p1, p2) = plt.subplots(1,2)\n",
    "fig.suptitle('Simulation', fontsize=20)\n",
    "plt.rcParams[\"figure.figsize\"] = [20., 8.]\n",
    "plt.rcParams[\"figure.autolayout\"] = True\n",
    "\n",
    "\n",
    "p1.set_xlabel('Time (MJD) - daytime')\n",
    "p2.set_xlabel('Time (MJD)')\n",
    "\n",
    "\n",
    "mjd = smltr.sun.mjd\n",
    "p1.plot(mjd, smltr.controller.power,  color=\"blue\",   label=\"Panel exposure (area units)\")\n",
    "p2.plot(mjd, smltr.monitor.battery, color=\"red\",    label=\"Panel power (a.u.)\")\n",
    "\n",
    "\n",
    "xlo = mjd[smltr.initial_time]\n",
    "xhi = mjd[smltr.until]\n",
    "\n",
    "p1.set_xlim([xlo, xhi])\n",
    "p2.set_xlim([xlo, xhi])\n",
    "\n",
    "p1.grid(True)\n",
    "p2.grid(True)\n",
    "\n",
    "plt.show()\n",
    "\n",
    "\n",
    "\n"
   ]
  },
  {
   "cell_type": "markdown",
   "metadata": {},
   "source": [
    "\n",
    "---\n",
    "\n",
    "## Archived utilities\n",
    "\n",
    "Useful bits of code that aren't necesserily executed every time.\n"
   ]
  },
  {
   "cell_type": "code",
   "execution_count": null,
   "metadata": {},
   "outputs": [],
   "source": [
    "# Pretty print the dictionary we read from the input YAML, for an extra check:\n",
    "def pretty(d, indent=0):\n",
    "    for key, value in d.items():\n",
    "        print('\\t' * indent + str(key))\n",
    "        if isinstance(value, dict):\n",
    "            pretty(value, indent+1)\n",
    "        else:\n",
    "            print('\\t' * (indent+1) + str(value))"
   ]
  },
  {
   "cell_type": "code",
   "execution_count": null,
   "metadata": {},
   "outputs": [],
   "source": [
    "print('Current directory:', os.getcwd())\n",
    "\n",
    "# Define files to configure the run:\n",
    "\n",
    "conf_flnm   = '../config/conf.yml'\n",
    "modes_flnm  = '../config/modes.yml'\n",
    "devices_flnm= '../config/devices.yml'\n",
    "\n",
    "\n",
    "print(f'''-------------------- {conf_flnm} ---------------------------------------------------''')\n",
    "conf    = yaml.safe_load(open(conf_flnm, 'r'))\n",
    "pretty(conf)\n",
    "\n",
    "\n",
    "print(f'''-------------------- {modes_flnm} ---------------------------------------------------''')\n",
    "modes   = yaml.safe_load(open(modes_flnm, 'r'))\n",
    "pretty(modes)\n",
    "\n",
    "\n",
    "print(f'''-------------------- {devices_flnm} ---------------------------------------------------''')\n",
    "devices   = yaml.safe_load(open(modes_flnm, 'r'))\n",
    "pretty(devices)\n"
   ]
  }
 ],
 "metadata": {
  "kernelspec": {
   "display_name": "lusee-simpy",
   "language": "python",
   "name": "python3"
  },
  "language_info": {
   "codemirror_mode": {
    "name": "ipython",
    "version": 3
   },
   "file_extension": ".py",
   "mimetype": "text/x-python",
   "name": "python",
   "nbconvert_exporter": "python",
   "pygments_lexer": "ipython3",
   "version": "3.10.0"
  },
  "orig_nbformat": 4
 },
 "nbformat": 4,
 "nbformat_minor": 2
}
