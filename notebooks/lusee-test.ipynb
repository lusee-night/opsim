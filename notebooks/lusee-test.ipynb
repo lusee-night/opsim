{
 "cells": [
  {
   "cell_type": "markdown",
   "metadata": {},
   "source": [
    "# Testing the luseepy integration\n",
    "\n",
    "The \"Sun\" object can be used to either calculate the Sun trajectory based on the time interval, or\n",
    "read previously produced data from a file. Added a couple of validation plots."
   ]
  },
  {
   "cell_type": "code",
   "execution_count": 1,
   "metadata": {},
   "outputs": [
    {
     "name": "stdout",
     "output_type": "stream",
     "text": [
      "Path:\n",
      "-------------------------------------\n",
      "/home/maxim/projects/lusee/opsim/notebooks\n",
      "/home/maxim/projects/lusee/luseepy\n",
      "/home/maxim/projects/lusee/opsim\n",
      "/home/maxim/.virtualenvs/lusee/lib/python3.10/site-packages/backports\n",
      "/usr/local/lib/python310.zip\n",
      "/usr/local/lib/python3.10\n",
      "/usr/local/lib/python3.10/lib-dynload\n",
      "/home/maxim/.virtualenvs/lusee-simpy/lib/python3.10/site-packages\n",
      "-------------------------------------\n",
      "lusee version: 1.2-dev\n"
     ]
    }
   ],
   "source": [
    "# Imports and utility\n",
    "\n",
    "# Jupyter magic for autoreload:\n",
    "%reload_ext autoreload\n",
    "%autoreload 2\n",
    "\n",
    "# Test sun trajectory calculation at runtime, NB. may take long!\n",
    "\n",
    "import sys\n",
    "import numpy as np\n",
    "import matplotlib.pyplot as plt\n",
    "import lusee\n",
    "from   lusee import Observation\n",
    "\n",
    "# import nav\n",
    "from nav import * # includes luseepy\n",
    "# ----------------------------------------------------\n",
    "print(\"Path:\")\n",
    "print(\"-------------------------------------\")\n",
    "for path_part in sys.path:\n",
    "    if path_part!='': print(f'''{path_part}''')\n",
    "print(\"-------------------------------------\")\n",
    "print(f'''lusee version: {lusee.__version__}''')\n",
    "\n"
   ]
  },
  {
   "cell_type": "code",
   "execution_count": 4,
   "metadata": {},
   "outputs": [
    {
     "name": "stdout",
     "output_type": "stream",
     "text": [
      "time: ('2025-02-10 00:00:00', '2025-02-11 23:45:00')\n",
      "deltaT_sec: 100\n",
      "lun_height_m: 0\n",
      "lun_lun_long_deg: 182.258\n",
      "lun_lun_lat_deg: -23.814\n"
     ]
    }
   ],
   "source": [
    "# Basic test of the Observation object\n",
    "interval = \"2025-02-10 00:00:00 to 2025-02-11 23:45:00\"\n",
    "o = Observation(interval)\n",
    "\n",
    "tuple_test = (\"2025-02-10 00:00:00\", \"2025-02-11 23:45:00\")\n",
    "o_test = Observation(tuple_test, deltaT_sec = 100)\n",
    "\n",
    "print(f'''time: {o_test.time}''')\n",
    "print(f'''deltaT_sec: {o_test.deltaT_sec}''')\n",
    "print(f'''lun_height_m: {o_test.lun_height_m}''')\n",
    "print(f'''lun_lun_long_deg: {o_test.lun_long_deg}''')\n",
    "print(f'''lun_lun_lat_deg: {o_test.lun_lat_deg}''')\n"
   ]
  },
  {
   "cell_type": "markdown",
   "metadata": {},
   "source": [
    "\n",
    "---\n",
    "\n",
    "### Calculate or read the Sun trajectory in the sky\n",
    "\n",
    "In the two cells below, either calculate from scratch, or read data calculated previously.\n"
   ]
  },
  {
   "cell_type": "code",
   "execution_count": 4,
   "metadata": {},
   "outputs": [],
   "source": [
    "# Calculate the trajectory at runtime\n",
    "\n",
    "interval = \"2025-02-10 00:00:00 to 2025-02-26 23:45:00\"\n",
    "mySun = Sun()\n",
    "mySun.calculate(interval)\n"
   ]
  },
  {
   "cell_type": "code",
   "execution_count": null,
   "metadata": {},
   "outputs": [],
   "source": [
    "# Read the prefab data on sun trajectory\n",
    "import os\n",
    "from nav import Sun\n",
    "print('Current directory:', os.getcwd())\n",
    "\n",
    "mySun = Sun()\n",
    "\n",
    "cachefile = '../data/2025-02-04_03-07.npy'\n",
    "mySun.read_trajectory(cachefile)\n",
    "print(f'''Number of points read from the file {cachefile}: {mySun.N}''')\n"
   ]
  },
  {
   "cell_type": "markdown",
   "metadata": {},
   "source": [
    "---\n",
    "\n",
    "### Plot\n",
    "\n",
    "Regardless of whether it was calculated or read from a file, we can check the data with some graphics"
   ]
  },
  {
   "cell_type": "code",
   "execution_count": null,
   "metadata": {},
   "outputs": [],
   "source": [
    "fig, (p1, p2) = plt.subplots(1,2)\n",
    "plt.rcParams[\"figure.figsize\"] = [15., 8.]\n",
    "plt.rcParams[\"figure.autolayout\"] = True\n",
    "\n",
    "p1.set_title(\"alt\")\n",
    "p1.plot(mySun.mjd, mySun.alt, color=\"red\")\n",
    "p1.grid(True)\n",
    "p1.set_xlabel('mjd')\n",
    "\n",
    "\n",
    "p2.set_title(\"az\")\n",
    "p2.plot(mySun.mjd, mySun.az, color=\"blue\")\n",
    "p2.grid(True)\n",
    "p2.set_xlabel('mjd')\n",
    "# plt.title(\"Time interval: \"+interval)\n",
    "plt.show()\n"
   ]
  },
  {
   "cell_type": "markdown",
   "metadata": {},
   "source": [
    "---\n",
    "\n",
    "Note that the time unit for \"hours\" is still the same as for other values, in the original case it's 15 min intervals, which is 0.25 hrs"
   ]
  },
  {
   "cell_type": "code",
   "execution_count": null,
   "metadata": {},
   "outputs": [],
   "source": [
    "alt = mySun.alt\n",
    "mjd = mySun.mjd\n",
    "az  = mySun.az\n",
    "hrs = mySun.hrsFromSunrise\n",
    "print(hrs[0:100]) # test printout"
   ]
  },
  {
   "cell_type": "code",
   "execution_count": null,
   "metadata": {},
   "outputs": [],
   "source": [
    "\n",
    "iMidnight       = np.argmin(alt)\n",
    "iNoon           = np.argmax(alt)\n",
    "iSundown1       = np.argmin(np.abs(alt[:iMidnight]))\n",
    "iSunrise        = np.argmin(np.abs(alt[iMidnight:])) + iMidnight\n",
    "iSundown2       = np.argmin(abs(alt[iNoon:])) + iNoon\n",
    "hoursFromSunset = (mjd - mjd[iSundown1])*24\n",
    "\n",
    "t_inc = 0.25 # Varies! But approx 0.25hrs ticks\n",
    "\n",
    "alt_sun_top     = np.asarray(alt)+0.265\n",
    "iSuntoprise     = np.argmin(np.abs(alt_sun_top[iMidnight:iNoon])) + iMidnight\n",
    "iSuntopdown2    = np.argmin(abs(alt_sun_top[iNoon:])) + iNoon\n",
    "\n",
    "# plot altitude through the cycle\n",
    "plt.plot(hrs, alt, label='Alt')\n",
    "plt.axhline(0, c='k', lw=2)\n",
    "plt.grid(True)\n",
    "plt.xlabel(\"Hours from Lunar Sunrise\")\n",
    "plt.ylabel(\"Sun Altitude [deg]\")\n",
    "\n",
    "# plot track of sun in 3D during 1 lunar day\n",
    "plt.figure()\n",
    "ax = plt.axes(projection='3d')\n",
    "# day_mask = alt > 0\n",
    "day_mask = [False]*len(alt) | (alt>0)\n",
    "for i in range(len(day_mask)):\n",
    "    if (i<iMidnight):\n",
    "        day_mask[i] = False\n",
    "\n",
    "# sun = altaz2xyz(alt, az)\n",
    "sunDay = altaz2xyz(alt, az)[day_mask]\n",
    "\n",
    "ax.plot3D(sunDay[:,0],sunDay[:,1],sunDay[:,2])\n",
    "ax.scatter3D(sunDay[0,0],sunDay[0,1],sunDay[0,2], c='r', label='rise')\n",
    "ax.scatter3D(sunDay[-1,0],sunDay[-1,1],sunDay[-1,2], c='k', label='set')\n",
    "\n",
    "ax.set_xlabel('azimuth W->E')\n",
    "ax.set_ylabel('azimuth S->N')\n",
    "ax.set_zlabel('altitude')\n",
    "ax.legend()\n"
   ]
  },
  {
   "cell_type": "code",
   "execution_count": null,
   "metadata": {},
   "outputs": [],
   "source": [
    "from scipy.interpolate import interp1d\n",
    "\n",
    "plt.plot(hrs,   alt, color=\"red\",    label=\"Alt\")\n",
    "plt.xlim(-10, 360)\n",
    "plt.grid(True)\n",
    "plt.title(\"Alt vs Hours to sunrise\")\n",
    "\n",
    "\n",
    "#Lunar surface temperature data\n",
    "# day_hrs = PVProjArea()[0]\n",
    "hrs_per_lunar_day = 2551443/3600\n",
    "temp_data = np.loadtxt(\"../reference/lunarTemperature30degDiviner.txt\", delimiter=',') #Data starts at midnight!\n",
    "time_hrs=(temp_data[:,0]-6)/24*hrs_per_lunar_day; temp=temp_data[:,1] #-6hrs to shift to hours from sunrise\n",
    "temp_fit = interp1d(time_hrs,temp,kind='cubic')\n",
    "\n",
    "print(f'''Data array: {temp_data.size}, hours per lunar day: {hrs_per_lunar_day}, t_inc: {t_inc}''')\n",
    "\n",
    "# Interpolate temp data over daylight hours with same spacing as day_hrs\n",
    "# Edge pad to length of day_hrs so array size/time increments match\n",
    "# Power outside daylight hours will be zero'd by PVProjArea func, so thermal eff value meaningless outside daylight\n",
    "time_day = np.arange(0,hrs_per_lunar_day/2,t_inc) \n",
    "#temp_matched = np.pad(temp_fit(time_day),(iSunrise+1,len(day_hrs)-iSundown2+2), mode='edge') \n",
    "# Copy end of day temps to previous day\n",
    "#temp_matched[:iSundown1] = temp_matched[(iSundown2-iSundown1):iSundown2]\n",
    "\n",
    "# plt.plot(hrs,temp,'o', label='Temp Data')\n",
    "# plt.plot(time_day, temp_fit(time_day), '-', label='Fit for Daytime')\n",
    "# plt.plot(day_hrs, temp_matched, '--', label='Padded Fit')\n",
    "# plt.legend()\n",
    "# plt.xlabel('Hours from Lunar Dawn'); plt.ylabel(\"Temperature [K]\")\n",
    "# plt.title(\"Lunar Surface Temperature\")\n",
    "\n"
   ]
  }
 ],
 "metadata": {
  "kernelspec": {
   "display_name": "lusee",
   "language": "python",
   "name": "python3"
  },
  "language_info": {
   "codemirror_mode": {
    "name": "ipython",
    "version": 3
   },
   "file_extension": ".py",
   "mimetype": "text/x-python",
   "name": "python",
   "nbconvert_exporter": "python",
   "pygments_lexer": "ipython3",
   "version": "3.10.0"
  },
  "orig_nbformat": 4
 },
 "nbformat": 4,
 "nbformat_minor": 2
}
