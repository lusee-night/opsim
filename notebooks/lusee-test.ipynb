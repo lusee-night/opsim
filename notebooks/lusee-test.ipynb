{
 "cells": [
  {
   "cell_type": "markdown",
   "metadata": {},
   "source": [
    "# Testing the luseepy integration\n",
    "\n",
    "This notebook is meant to be used for basic testing of the luseepy software stack.\n",
    "\n",
    "The \"Sun\" object can be used to either calculate the Sun trajectory based on the time interval, or\n",
    "read previously produced data from a file."
   ]
  },
  {
   "cell_type": "code",
   "execution_count": 1,
   "metadata": {},
   "outputs": [
    {
     "ename": "ModuleNotFoundError",
     "evalue": "No module named 'nav'",
     "output_type": "error",
     "traceback": [
      "\u001b[0;31m---------------------------------------------------------------------------\u001b[0m",
      "\u001b[0;31mModuleNotFoundError\u001b[0m                       Traceback (most recent call last)",
      "Cell \u001b[0;32mIn[1], line 15\u001b[0m\n\u001b[1;32m     13\u001b[0m \u001b[38;5;28;01mimport\u001b[39;00m  \u001b[38;5;21;01mlusee\u001b[39;00m\n\u001b[1;32m     14\u001b[0m \u001b[38;5;28;01mfrom\u001b[39;00m    \u001b[38;5;21;01mlusee\u001b[39;00m \u001b[38;5;28;01mimport\u001b[39;00m Observation\n\u001b[0;32m---> 15\u001b[0m \u001b[38;5;28;01mfrom\u001b[39;00m    \u001b[38;5;21;01mnav\u001b[39;00m \u001b[38;5;28;01mimport\u001b[39;00m \u001b[38;5;241m*\u001b[39m\n\u001b[1;32m     17\u001b[0m \u001b[38;5;66;03m# ----------------------------------------------------\u001b[39;00m\n\u001b[1;32m     18\u001b[0m \u001b[38;5;28mprint\u001b[39m(\u001b[38;5;124m\"\u001b[39m\u001b[38;5;124mPath:\u001b[39m\u001b[38;5;124m\"\u001b[39m)\n",
      "\u001b[0;31mModuleNotFoundError\u001b[0m: No module named 'nav'"
     ]
    }
   ],
   "source": [
    "# Imports and utility\n",
    "\n",
    "# Jupyter magic for autoreload:\n",
    "%reload_ext autoreload\n",
    "%autoreload 2\n",
    "\n",
    "# General dependencies\n",
    "import  sys\n",
    "import  numpy as np\n",
    "import  matplotlib.pyplot as plt\n",
    "\n",
    "# LuSEE\n",
    "import  lusee\n",
    "from    lusee import Observation\n",
    "from    nav import *\n",
    "\n",
    "# ----------------------------------------------------\n",
    "print(\"Path:\")\n",
    "print(\"-------------------------------------\")\n",
    "for path_part in sys.path:\n",
    "    if path_part!='': print(f'''{path_part}''')\n",
    "print(\"-------------------------------------\")\n",
    "print(f'''lusee version: {lusee.__version__}''')\n",
    "\n"
   ]
  },
  {
   "cell_type": "markdown",
   "metadata": {},
   "source": [
    "\n",
    "---\n",
    "\n",
    "### Calculate or read the Sun and Satellite trajectories in the sky\n",
    "\n",
    "In the two cells below, either calculate from scratch, or read data calculated previously.\n"
   ]
  },
  {
   "cell_type": "code",
   "execution_count": null,
   "metadata": {},
   "outputs": [],
   "source": [
    "# Calculate the trajectory at runtime\n",
    "\n",
    "interval = \"2025-02-10 00:00:00 to 2025-03-07 23:45:00\"\n",
    "mySun = Sun()\n",
    "mySun.calculate(interval)\n",
    "\n",
    "o       = Observation(interval)\n",
    "S       = Satellite()\n",
    "obsat   = ObservedSatellite(o,S)\n"
   ]
  },
  {
   "cell_type": "code",
   "execution_count": null,
   "metadata": {},
   "outputs": [],
   "source": [
    "plt.rcParams[\"figure.figsize\"] = [10., 10.]\n",
    "\n",
    "ax=plt.subplot()\n",
    "mjd = [timepoint.mjd for timepoint in o.times]\n",
    "ax.plot(mjd, obsat.alt_rad(),  color=\"red\",    label=\"Satellite alt\")\n",
    "ax.plot(mySun.mjd, mySun.alt,  color=\"blue\",   label=\"Sun alt\")\n",
    "ax.grid(True)\n",
    "_ = plt.legend()\n"
   ]
  },
  {
   "cell_type": "code",
   "execution_count": 2,
   "metadata": {},
   "outputs": [
    {
     "ename": "ModuleNotFoundError",
     "evalue": "No module named 'nav'",
     "output_type": "error",
     "traceback": [
      "\u001b[0;31m---------------------------------------------------------------------------\u001b[0m",
      "\u001b[0;31mModuleNotFoundError\u001b[0m                       Traceback (most recent call last)",
      "Cell \u001b[0;32mIn[2], line 3\u001b[0m\n\u001b[1;32m      1\u001b[0m \u001b[38;5;66;03m# Read the prefab data on sun trajectory\u001b[39;00m\n\u001b[1;32m      2\u001b[0m \u001b[38;5;28;01mimport\u001b[39;00m \u001b[38;5;21;01mos\u001b[39;00m\n\u001b[0;32m----> 3\u001b[0m \u001b[38;5;28;01mfrom\u001b[39;00m \u001b[38;5;21;01mnav\u001b[39;00m \u001b[38;5;28;01mimport\u001b[39;00m Sun\n\u001b[1;32m      5\u001b[0m \u001b[38;5;66;03m# ---\u001b[39;00m\n\u001b[1;32m      6\u001b[0m \u001b[38;5;28mprint\u001b[39m(\u001b[38;5;124m'\u001b[39m\u001b[38;5;124mCurrent directory:\u001b[39m\u001b[38;5;124m'\u001b[39m, os\u001b[38;5;241m.\u001b[39mgetcwd())\n",
      "\u001b[0;31mModuleNotFoundError\u001b[0m: No module named 'nav'"
     ]
    }
   ],
   "source": [
    "# Read the prefab data on sun trajectory\n",
    "import os\n",
    "from nav import Sun\n",
    "\n",
    "# ---\n",
    "print('Current directory:', os.getcwd())\n",
    "\n",
    "mySun = Sun()\n",
    "\n",
    "# cachefile = '../data/2025-02-04_03-07.npy'\n",
    "cachefile = '../data/archive/2025-02-04_2025-08-10.npy'\n",
    "\n",
    "mySun.read_trajectory(cachefile)\n",
    "print(f'''Number of points read from the file {cachefile}: {mySun.N}''')\n",
    "\n",
    "print(mySun.crossings)\n",
    "\n",
    "# prev = None\n",
    "\n",
    "# for crs in mySun.crossings:\n",
    "#     # print(mySun.alt[crs:crs+2])\n",
    "#     print(mySun.mjd[crs])\n",
    "#     prev = mySun.mjd[crs]\n",
    "#     if prev is not None:\n",
    "#         print(mySun.mjd[crs] - prev)\n",
    "#         prev = mySun.mjd[crs]\n",
    "        \n",
    "\n",
    "\n",
    "# for d in mySun.day: print(d)\n",
    "\n"
   ]
  },
  {
   "cell_type": "markdown",
   "metadata": {},
   "source": [
    "---\n",
    "\n",
    "### Plot\n",
    "\n",
    "Regardless of whether it was calculated or read from a file, we can check the data with some graphics"
   ]
  },
  {
   "cell_type": "code",
   "execution_count": null,
   "metadata": {},
   "outputs": [],
   "source": [
    "fig, (p1, p2) = plt.subplots(1,2)\n",
    "plt.rcParams[\"figure.figsize\"] = [20., 10.]\n",
    "plt.rcParams[\"figure.autolayout\"] = True\n",
    "\n",
    "p1.set_title(\"alt\")\n",
    "p1.plot(mySun.mjd, mySun.alt, color=\"red\")\n",
    "p1.grid(True)\n",
    "p1.set_xlabel('mjd')\n",
    "\n",
    "\n",
    "p2.set_title(\"az\")\n",
    "p2.plot(mySun.mjd, mySun.az, color=\"blue\")\n",
    "p2.grid(True)\n",
    "p2.set_xlabel('mjd')\n",
    "# plt.title(\"Time interval: \"+interval)\n",
    "plt.show()\n"
   ]
  },
  {
   "cell_type": "markdown",
   "metadata": {},
   "source": [
    "---\n",
    "\n",
    "Note that the time unit for \"hours\" is still the same as for other values, in the original case it's 15 min intervals, which is 0.25 hrs"
   ]
  },
  {
   "cell_type": "code",
   "execution_count": null,
   "metadata": {},
   "outputs": [],
   "source": [
    "alt = mySun.alt\n",
    "mjd = mySun.mjd\n",
    "az  = mySun.az\n",
    "hrs = mySun.hrsFromSunrise\n",
    "print(hrs[0:100]) # test printout"
   ]
  }
 ],
 "metadata": {
  "kernelspec": {
   "display_name": "Python 3 (ipykernel)",
   "language": "python",
   "name": "python3"
  },
  "language_info": {
   "codemirror_mode": {
    "name": "ipython",
    "version": 3
   },
   "file_extension": ".py",
   "mimetype": "text/x-python",
   "name": "python",
   "nbconvert_exporter": "python",
   "pygments_lexer": "ipython3",
   "version": "3.10.1"
  }
 },
 "nbformat": 4,
 "nbformat_minor": 4
}
