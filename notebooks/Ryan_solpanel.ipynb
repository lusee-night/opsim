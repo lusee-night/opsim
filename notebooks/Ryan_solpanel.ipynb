{
 "cells": [
  {
   "cell_type": "code",
   "execution_count": 1,
   "id": "d48ff3cf-f02a-4c01-a816-ad000bfa30ab",
   "metadata": {},
   "outputs": [],
   "source": [
    "import  os, sys\n",
    "import  matplotlib.pyplot as plt\n",
    "import yaml\n",
    "import numpy as np\n",
    "import pandas as pd\n",
    "from scipy.interpolate import interp1d\n",
    "sys.path.append('../')  # Add parent dir to path\n",
    "import hardware\n",
    "from scipy.spatial.transform import Rotation as R"
   ]
  },
  {
   "cell_type": "code",
   "execution_count": 2,
   "id": "439fe3d7-cfb8-4cc8-bcfa-03de99236feb",
   "metadata": {},
   "outputs": [],
   "source": [
    "def mjd_to_hours(mjd):\n",
    "    seconds_per_day = 86400  # 24 hours * 60 minutes * 60 seconds\n",
    "    mjd_epoch = 2400000.5  # JD of MJD\n",
    "    \n",
    "    # MJD --> JD\n",
    "    jd = mjd + mjd_epoch\n",
    "    \n",
    "    # JD --> hrs since start\n",
    "    hours_since_start = (jd - jd.iloc[0]) * 24\n",
    "    \n",
    "    return hours_since_start"
   ]
  },
  {
   "cell_type": "code",
   "execution_count": 40,
   "id": "d10be542-7f0c-4a03-a06d-46f6bec32bc9",
   "metadata": {},
   "outputs": [],
   "source": [
    "class Panel: # base, \"abstract\"\n",
    "\n",
    "    name            ='Base Panel Class' # will be overwritten in the derived classes\n",
    "    verbose         = True\n",
    "    solarConstant   = 1361   # W/m^2 at Moon \n",
    "\n",
    "    ###\n",
    "    def __init__(self, sun, name = '', lander=(0.0 , 0.0, 0.0), normal=(None, None, None), env=None, area=1.0, pvEFF_T=None, pvEFF_P=None, efficiency_mult=1.0, apply_cosine_correction=True, temperatures=None):\n",
    "\n",
    "        lander_pitch, lander_roll, lander_yaw = lander\n",
    "        \n",
    "\n",
    "        r1 = R.from_euler('x', lander_pitch,    degrees=True) # + is nose down,     - is nose up\n",
    "        r2 = R.from_euler('y', lander_roll,     degrees=True) # + is top left,      - is top right\n",
    "        r3 = R.from_euler('z', lander_yaw,      degrees=True) # + is nose right,    - is nose left\n",
    "        self.r_tot = r1*r2*r3\n",
    "\n",
    "        self.sun        = sun\n",
    "        self.name       = name\n",
    "        self.area       = area\n",
    "        self.env        = env\n",
    "        self.efficiency_mult = efficiency_mult\n",
    "        self.apply_cosine_correction = apply_cosine_correction\n",
    "\n",
    "        if pvEFF_T is not None: \n",
    "            self.pvEfficiency = Panel.pvEfficiency\n",
    "        else:\n",
    "            self.pvEfficiency = np.polyfit(pvEFF_T, pvEFF_P, 2)\n",
    "        \n",
    "        # The \"normal\" is specific to each of the three (or more) subclassed panels\n",
    "        self.normal     = normal\n",
    "        self.normal_rot = self.r_tot.apply(self.normal)\n",
    "        self.dot_sun    = self.dot(sun.xyz)\n",
    "        self.dot_sun_corr = self.pv_angle_corr(sun.xyz)\n",
    "\n",
    "        self.choice_list = [self.dot_sun, self.dot_sun, 0, 0]\n",
    "        self.temperature = temperatures\n",
    "    \n",
    "    ### ---\n",
    "    def dot(self, sun_xyz):\n",
    "        buffer = self.area*np.dot(sun_xyz, self.normal_rot)\n",
    "        buffer[buffer<0] = 0.0\n",
    "        return buffer\n",
    "\n",
    "    ### ---\n",
    "    def pv_angle_corr(self, sun_xyz):\n",
    "        #Correction factor for measured divergence of PV power as a function of solar angle from expected cosine/dot-product dependence \n",
    "        #Correction function derived from measured PV data in Ben Saliwanchik's lusee_pv_cosine_angle_correction.ipynb\n",
    "        \n",
    "        sun_unit = sun_xyz / np.linalg.norm(sun_xyz, axis=1)[:, np.newaxis] #Unit vector for direction of sun\n",
    "        pv_unit = self.normal_rot / np.linalg.norm(self.normal_rot) #PV normal_rot should already be a unit vector, but hey, safety first!\n",
    "        sun_angle = np.abs(np.degrees(np.arccos(np.dot(sun_unit, pv_unit)))) #Angle between sun and PV normal vector\n",
    "\n",
    "        #Correction is modeled as high-order polynomial based on measured PV power as a function of angle\n",
    "        poly_coeffs = [1.0004983419956408e+000, -3.8502838956781440e-003, 1.7502375769223580e-003, -3.5217013489873119e-004, 3.5446614736203286e-005, -2.0316555216327750e-006, \\\n",
    "                   7.1799275885981016e-008, -1.6233764365292121e-009, 2.3567637664937247e-011, -2.1265570389995531e-013, 1.0858756530544471e-015, -2.3977629606594377e-018]\n",
    "        poly_fit = np.polynomial.Polynomial(poly_coeffs)\n",
    "\n",
    "        return poly_fit(sun_angle)  \n",
    "    \n",
    "    ### ---\n",
    "    def set_condition(self, condition_list):\n",
    "        self.condition_list = condition_list\n",
    "\n",
    "    ### ---\n",
    "    def exposure(self):\n",
    "        pwr = np.select(self.condition_list, self.choice_list)\n",
    "        return pwr\n",
    "    \n",
    "    ### ---\n",
    "    def power(self):\n",
    "        eff = 0.3 # default, if the temperature curve is not set for the sun\n",
    "    \n",
    "        if self.temperature is not None: \n",
    "            eff = self.pvEfficiency(self.temperature)\n",
    "            if self.apply_cosine_correction==True:\n",
    "                power =  Panel.solarConstant*eff[:,0]*self.dot_sun_corr * self.efficiency_mult\n",
    "        else:\n",
    "            #power =  Panel.solarConstant*eff*np.select(self.condition_list, self.choice_list) * self.efficiency_mult\n",
    "            eff = np.array(eff).reshape(-1, 1)\n",
    "            power =  Panel.solarConstant*eff * self.efficiency_mult\n",
    "        return power\n",
    "    \n",
    "    ### ---\n",
    "    def info(self):\n",
    "        return f'''Panel {self.name}'''\n",
    "    \n",
    "    ### Static method for the PV efficiency calculation (just convenient)\n",
    "    @staticmethod\n",
    "    def pvEfficiency(T):\n",
    "        pvTemp = np.array([-173.15, 20, 126.85])\n",
    "        pvPwr = np.array([152, 130, 110]) / 426.47  # Stated AM0 normal incidence power output of top panel\n",
    "        p = np.poly1d(np.polyfit(pvTemp, pvPwr, 2))\n",
    "        return p(T)\n",
    "\n",
    "# ------------------------------------------------------------\n"
   ]
  },
  {
   "cell_type": "code",
   "execution_count": 41,
   "id": "6a4622a1-5e82-4388-a799-b9909ae80280",
   "metadata": {},
   "outputs": [],
   "source": [
    "class Sun_mr:\n",
    "      def __init__(self,SolarX,SolarY,SolarZ,mjd,hrs):\n",
    "            sun = np.zeros((len(SolarX),3))\n",
    "            sun[:,0] = SolarX\n",
    "            sun[:,1] = SolarY\n",
    "            sun[:,2] = SolarZ\n",
    "\n",
    "            #self.condition =  [self.alt>horizon+self.radius, self.alt>horizon, self.alt>horizon-self.radius, self.alt<=horizon-self.radius]\n",
    "            self.xyz = sun\n",
    "            self.mjd = mjd\n",
    "            self.hrs = hrs\n",
    "          \n"
   ]
  },
  {
   "cell_type": "code",
   "execution_count": 42,
   "id": "2b08c93b-e151-4013-9e83-390454257d15",
   "metadata": {},
   "outputs": [],
   "source": [
    "config = yaml.safe_load(open('../config/devices.yml','r'))\n",
    "pcf= config['solar_panels']['config'] # panel config\n",
    "panels  = config['solar_panels']['panels'] # list of panels\n",
    "lander = np.array([float(x) for x in pcf['lander'].split()])\n",
    "pvEFF_T = np.array([float(x) for x in pcf['PV_efficiency']['temp'].split()])\n",
    "pvEFF_P = np.array([float(x) for x in pcf['PV_efficiency']['power'].split()])\n",
    "\n",
    "cos_corr = pcf['apply_cosine_correction'] # Whether to apply correction to cosine-law for PV power as function of solar angle. Correction based on measured PV power. \n",
    "\n",
    "\n",
    "#print(eff.shape)"
   ]
  },
  {
   "cell_type": "code",
   "execution_count": 43,
   "id": "0ca4e267-ee8f-4b7a-9a0e-51b4f4bbff7c",
   "metadata": {},
   "outputs": [],
   "source": [
    "sol_pvt = pd.read_csv('sol_pow_RevA.csv',delimiter=',') ## loading in solar power data\n",
    "sol_pvt['sol_hrs'] = mjd_to_hours(sol_pvt['Time (mjd)'])\n",
    "#sol_pvt= sol_pvt[sol_pvt['sol_hrs'] < max(night1_coldpow['Nodes/Times'])]\n",
    "#print(sol_pvt)\n"
   ]
  },
  {
   "cell_type": "code",
   "execution_count": 44,
   "id": "a160965b-a8ba-40c6-991f-fc35138fb7a4",
   "metadata": {},
   "outputs": [],
   "source": [
    "temperature_panel= np.zeros((len(sol_pvt['Panel E Temp']),3))\n",
    "temperature_panel[:,0] = sol_pvt['Panel E Temp']\n",
    "temperature_panel[:,1] = sol_pvt['Panel W Temp']\n",
    "temperature_panel[:,2] = sol_pvt['Panel Top Temp']\n",
    "sun = Sun_mr(sol_pvt['Solar X'],sol_pvt['Solar Y'],sol_pvt['Solar Z'],sol_pvt['Time (mjd)'],sol_pvt['sol_hrs'])"
   ]
  },
  {
   "cell_type": "code",
   "execution_count": 45,
   "id": "5845f7ab-17f6-464c-8d2c-0aeac8ef034b",
   "metadata": {},
   "outputs": [
    {
     "name": "stdout",
     "output_type": "stream",
     "text": [
      "{'EPanel': {'normal': '1 0 0', 'efficiency': 1.0, 'area': 0.1565}, 'WPanel': {'normal': '-1 0 0', 'efficiency': 1.0, 'area': 0.1565}, 'TPanel': {'normal': '0 0 1', 'efficiency': 1.0, 'area': 0.313}}\n",
      "1.0\n",
      "[ 4.84827822e+02  4.84684287e+02  4.84540639e+02 ... -2.96208365e+08\n",
      " -2.94115269e+08 -2.91815324e+08]\n",
      "{'EPanel': {'normal': '1 0 0', 'efficiency': 1.0, 'area': 0.1565}, 'WPanel': {'normal': '-1 0 0', 'efficiency': 1.0, 'area': 0.1565}, 'TPanel': {'normal': '0 0 1', 'efficiency': 1.0, 'area': 0.313}}\n",
      "1.0\n",
      "[-2.97585802e+08 -2.99386222e+08 -3.01007748e+08 ...  4.59030139e+02\n",
      "  4.58763016e+02  4.58495777e+02]\n",
      "{'EPanel': {'normal': '1 0 0', 'efficiency': 1.0, 'area': 0.1565}, 'WPanel': {'normal': '-1 0 0', 'efficiency': 1.0, 'area': 0.1565}, 'TPanel': {'normal': '0 0 1', 'efficiency': 1.0, 'area': 0.313}}\n",
      "1.0\n",
      "[-54.47055715 -37.73268149 -21.57735794 ... -24.38100312 -39.81678362\n",
      " -55.78489422]\n",
      "[<__main__.Panel object at 0x7f7090251f00>, <__main__.Panel object at 0x7f708831e830>, <__main__.Panel object at 0x7f709021c4f0>]\n"
     ]
    }
   ],
   "source": [
    "panel_list = []\n",
    "for panel_name in panels:\n",
    "    print(panels)\n",
    "    panel = panels[panel_name]\n",
    "    normal = np.array([float(x) for x in panel['normal'].split()])\n",
    "    eff = panel['efficiency']*pcf['efficiency_all']\n",
    "    print(eff)\n",
    "    #print(eff.shape)\n",
    "    panel = Panel(sun, name = '', lander=(0.0 , 0.0, 0.0), normal=normal, env=None, area=1.0, pvEFF_T= pvEFF_T, pvEFF_P=pvEFF_P , efficiency_mult=1.0, apply_cosine_correction=True, temperatures=temperature_panel)\n",
    "    print(panel.power())\n",
    "    panel_list.append(panel)\n",
    "print(panel_list)"
   ]
  },
  {
   "cell_type": "code",
   "execution_count": 46,
   "id": "fae5ec09-6c2a-4d03-a883-6c0a811ed2ae",
   "metadata": {},
   "outputs": [
    {
     "data": {
      "text/plain": [
       "Text(0.02, 0.5, 'P (watts)')"
      ]
     },
     "execution_count": 46,
     "metadata": {},
     "output_type": "execute_result"
    },
    {
     "data": {
      "image/png": "[encoded data removed]",
      "text/plain": [
       "<Figure size 600x800 with 4 Axes>"
      ]
     },
     "metadata": {},
     "output_type": "display_data"
    }
   ],
   "source": [
    "fig =plt.figure(figsize=(6, 8))\n",
    "plt.subplot(4, 1, 1)\n",
    "plt.plot(sol_pvt['sol_hrs'],  panel_list[0].power(), color ='blue' ,label='E')\n",
    "plt.xlim(0,600)\n",
    "\n",
    "plt.legend()\n",
    "plt.subplot(4, 1, 2)\n",
    "plt.plot(sol_pvt['sol_hrs'], panel_list[1].power(), color ='blue' ,label='W')\n",
    "plt.xlim(0,600)\n",
    "\n",
    "plt.legend()\n",
    "plt.subplot(4, 1, 3)\n",
    "plt.plot(sol_pvt['sol_hrs'],  panel_list[2].power(), color ='blue' ,label='Top')\n",
    "plt.xlim(0,600)\n",
    "plt.legend()\n",
    "\n",
    "plt.subplot(4, 1, 4)\n",
    "plt.plot(sol_pvt['sol_hrs'],  sol_pvt['Solar power (watts)'], color ='blue' ,label='Summation')\n",
    "plt.xlabel('Time (hrs)')\n",
    "plt.xlim(0,600)\n",
    "plt.legend()\n",
    "fig.supylabel('P (watts)')\n",
    "\n"
   ]
  },
  {
   "cell_type": "code",
   "execution_count": null,
   "id": "932b9267-053c-43c2-ace2-9ab5195f06b1",
   "metadata": {},
   "outputs": [],
   "source": []
  }
 ],
 "metadata": {
  "kernelspec": {
   "display_name": "Python 3 (ipykernel)",
   "language": "python",
   "name": "python3"
  },
  "language_info": {
   "codemirror_mode": {
    "name": "ipython",
    "version": 3
   },
   "file_extension": ".py",
   "mimetype": "text/x-python",
   "name": "python",
   "nbconvert_exporter": "python",
   "pygments_lexer": "ipython3",
   "version": "3.10.1"
  }
 },
 "nbformat": 4,
 "nbformat_minor": 5
}
