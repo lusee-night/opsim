{
 "cells": [
  {
   "cell_type": "markdown",
   "metadata": {},
   "source": [
    "# OpSim -- simulation\n",
    "\n",
    "## About\n",
    "\n",
    "This notebook is for testing of the OpSim functionality.\n",
    "An attempt was made to simplify code, so in most cases we\n",
    "rely on the precalculated Sun trajectory and the solar\n",
    "panel power output profile, loaded from files."
   ]
  },
  {
   "cell_type": "code",
   "execution_count": 69,
   "metadata": {},
   "outputs": [],
   "source": [
    "# Jupyter magic for autoreload:\n",
    "%reload_ext autoreload\n",
    "%autoreload 2\n",
    "\n",
    "# Standard imports and utility\n",
    "\n",
    "import numpy as np\n",
    "import matplotlib.pyplot as plt\n",
    "import simpy\n"
   ]
  },
  {
   "cell_type": "code",
   "execution_count": 80,
   "metadata": {},
   "outputs": [
    {
     "name": "stdout",
     "output_type": "stream",
     "text": [
      "simpy version: 4.0.2\n",
      "lusee version: 1.2-dev\n"
     ]
    }
   ],
   "source": [
    "# Load lusee and OpSim\n",
    "\n",
    "import  lusee\n",
    "from    nav        import * # includes luseepy\n",
    "from    bms.parts  import * # Battery, Controller\n",
    "from    bms.panels import *\n",
    "# ----------------------------------------------------\n",
    "print(f'''simpy version: {simpy.__version__}''')\n",
    "print(f'''lusee version: {lusee.__version__}''')\n"
   ]
  },
  {
   "cell_type": "markdown",
   "metadata": {},
   "source": [
    "In the following, we have an option to read:\n",
    "* _prefab data for the Sun trajectory_\n",
    "* precalculated _panel power output profile_.\n"
   ]
  },
  {
   "cell_type": "code",
   "execution_count": 71,
   "metadata": {},
   "outputs": [
    {
     "name": "stdout",
     "output_type": "stream",
     "text": [
      "Current directory: /home/maxim/projects/lusee/opsim/notebooks\n",
      "Number of points read from the file ../data/2025-02-04_03-07.npy: 2993\n"
     ]
    }
   ],
   "source": [
    "# Read the prefab data on sun trajectory\n",
    "import os\n",
    "from nav import Sun\n",
    "print('Current directory:', os.getcwd())\n",
    "\n",
    "mySun = Sun()\n",
    "\n",
    "cachefile = '../data/2025-02-04_03-07.npy'\n",
    "mySun.read(cachefile)\n",
    "print(f'''Number of points read from the file {cachefile}: {mySun.N}''')\n",
    "\n",
    "sun = mySun.xyz # altaz2xyz(mySun.alt, mySun.az)\n",
    "hrs = mySun.hrsFromSunrise()\n"
   ]
  },
  {
   "cell_type": "code",
   "execution_count": 72,
   "metadata": {},
   "outputs": [
    {
     "name": "stdout",
     "output_type": "stream",
     "text": [
      "Current directory: /home/maxim/projects/lusee/opsim/notebooks\n",
      "Loaded data from file \"../data/2025-02-04_03-07_power.npy\", number of points: 2993\n"
     ]
    }
   ],
   "source": [
    "import os\n",
    "print('Current directory:', os.getcwd())\n",
    "power_cachefile = '../data/2025-02-04_03-07_power.npy'\n",
    "# with open(power_cachefile, 'rb') as f: pwr = np.load(f) #print(f'''Number of points read from the file {power_cachefile}: {pwr.size}''')\n",
    "\n",
    "Panel.verbose = True\n",
    "Panel.read_profile(power_cachefile)\n"
   ]
  },
  {
   "cell_type": "markdown",
   "metadata": {},
   "source": [
    "---\n",
    "\n",
    "Optionally, print out number to check if they make sense..."
   ]
  },
  {
   "cell_type": "code",
   "execution_count": null,
   "metadata": {},
   "outputs": [],
   "source": [
    "# To check the numerical values -- if sufficient, simply convert to a Python list: #a = list(pwr) print(*a, sep = \", \")\n",
    "# Or, print power values with the MJD timestamps:\n",
    "print(f'''Will attempt to access {mySun.N} points {Panel.profile}''')\n",
    "for i in range(0, mySun.N):\n",
    "    print(\"%5.3f: %5.3f\" % (mySun.mjd[i], Panel.profile[i]))\n"
   ]
  },
  {
   "cell_type": "code",
   "execution_count": 73,
   "metadata": {},
   "outputs": [
    {
     "data": {
      "image/png": "[encoded data removed]",
      "text/plain": [
       "<Figure size 640x480 with 1 Axes>"
      ]
     },
     "metadata": {},
     "output_type": "display_data"
    }
   ],
   "source": [
    "\n",
    "plt.plot(hrs, Panel.profile, color=\"red\",    label=\"total\")\n",
    "# plt.xlim(-100,400)\n",
    "plt.grid(True)\n"
   ]
  },
  {
   "cell_type": "code",
   "execution_count": 81,
   "metadata": {},
   "outputs": [
    {
     "name": "stdout",
     "output_type": "stream",
     "text": [
      "Clock: -387.5000000000582, power: 1.2253604302020147\n",
      "Clock: -387.2500000001164, power: 1.2240406818404967\n",
      "Clock: -387.0, power: 1.2227149841319656\n",
      "Clock: -386.7500000000582, power: 1.2213833436658157\n",
      "Clock: -386.5000000001164, power: 1.2200457670603484\n",
      "Clock: -386.25, power: 1.2187022609621851\n",
      "Clock: -386.0000000000582, power: 1.2173528320473288\n",
      "Clock: -385.7500000001164, power: 1.2159974870205839\n",
      "Clock: -385.5, power: 1.2146362326155165\n",
      "Clock: -385.2500000000582, power: 1.2132690755944218\n",
      "Clock: -385.0000000001164, power: 1.2118960227477225\n",
      "Clock: -384.75, power: 1.2105170808956203\n",
      "Clock: -384.5000000000582, power: 1.2091322568863754\n",
      "Clock: -384.2500000001164, power: 1.20774155759683\n",
      "Clock: -384.0, power: 1.2063449899323706\n"
     ]
    }
   ],
   "source": [
    "env = simpy.Environment()\n",
    "\n",
    "battery = Battery() # a dummy battery here, just to create the controller\n",
    "\n",
    "ctr     = Controller(battery, env, hrs)\n",
    "ctr.add_all_panels(mySun)\n",
    "ctr.set_condition(mySun.condition)\n",
    "\n",
    "env.process(ctr.run())\n",
    "\n",
    "env.run(until=15)\n",
    "\n",
    "ctrHrdwr = ControllerHardware('f', True)\n",
    "\n"
   ]
  }
 ],
 "metadata": {
  "kernelspec": {
   "display_name": "lusee-simpy",
   "language": "python",
   "name": "python3"
  },
  "language_info": {
   "codemirror_mode": {
    "name": "ipython",
    "version": 3
   },
   "file_extension": ".py",
   "mimetype": "text/x-python",
   "name": "python",
   "nbconvert_exporter": "python",
   "pygments_lexer": "ipython3",
   "version": "3.10.0"
  },
  "orig_nbformat": 4
 },
 "nbformat": 4,
 "nbformat_minor": 2
}
