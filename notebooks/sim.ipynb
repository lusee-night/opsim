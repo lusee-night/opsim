{
 "cells": [
  {
   "cell_type": "markdown",
   "metadata": {},
   "source": [
    "# Simulation"
   ]
  },
  {
   "cell_type": "code",
   "execution_count": 6,
   "metadata": {},
   "outputs": [
    {
     "name": "stdout",
     "output_type": "stream",
     "text": [
      "simpy version: 4.0.2\n",
      "lusee version: 1.2-dev\n"
     ]
    }
   ],
   "source": [
    "# Imports and utility\n",
    "\n",
    "# Jupyter magic for autoreload:\n",
    "%reload_ext autoreload\n",
    "%autoreload 2\n",
    "\n",
    "# Test sun trajectory calculation at runtime, NB. may take long!\n",
    "\n",
    "import numpy as np\n",
    "import matplotlib.pyplot as plt\n",
    "import simpy\n",
    "\n",
    "import lusee\n",
    "\n",
    "# import nav\n",
    "from nav import * # includes luseepy\n",
    "from bms.parts          import Battery, Controller\n",
    "# ----------------------------------------------------\n",
    "print(f'''simpy version: {simpy.__version__}''')\n",
    "print(f'''lusee version: {lusee.__version__}''')\n"
   ]
  },
  {
   "cell_type": "code",
   "execution_count": 9,
   "metadata": {},
   "outputs": [
    {
     "name": "stdout",
     "output_type": "stream",
     "text": [
      "Current directory: /home/maxim/projects/lusee/opsim/notebooks\n",
      "Loaded data from file \"../data/2025-02-04_03-07.npy\", number of points for the three components: 8979\n",
      "Number of points read from the file ../data/2025-02-04_03-07.npy: 2993\n"
     ]
    }
   ],
   "source": [
    "# Read the prefab data on sun trajectory\n",
    "import os\n",
    "from nav import Sun\n",
    "print('Current directory:', os.getcwd())\n",
    "\n",
    "mySun = Sun()\n",
    "\n",
    "cachefile = '../data/2025-02-04_03-07.npy'\n",
    "mySun.read(cachefile)\n",
    "print(f'''Number of points read from the file {cachefile}: {mySun.N}''')\n"
   ]
  },
  {
   "cell_type": "code",
   "execution_count": 8,
   "metadata": {},
   "outputs": [],
   "source": [
    "env = simpy.Environment()\n"
   ]
  }
 ],
 "metadata": {
  "kernelspec": {
   "display_name": "lusee-simpy",
   "language": "python",
   "name": "python3"
  },
  "language_info": {
   "codemirror_mode": {
    "name": "ipython",
    "version": 3
   },
   "file_extension": ".py",
   "mimetype": "text/x-python",
   "name": "python",
   "nbconvert_exporter": "python",
   "pygments_lexer": "ipython3",
   "version": "3.10.0"
  },
  "orig_nbformat": 4
 },
 "nbformat": 4,
 "nbformat_minor": 2
}
