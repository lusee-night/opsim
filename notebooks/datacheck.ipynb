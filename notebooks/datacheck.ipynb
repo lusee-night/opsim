{
 "cells": [
  {
   "cell_type": "markdown",
   "metadata": {},
   "source": [
    "# Datacheck for OpSim \n",
    "\n",
    "## About\n",
    "\n",
    "Inspect input data meant for the Simulator object. The \"orbitals\" data is stored and read in the HDF5 format and includes time axis in MJD, as well as the sun (alt, az) and the satellites."
   ]
  },
  {
   "cell_type": "code",
   "execution_count": 7,
   "metadata": {},
   "outputs": [
    {
     "name": "stdout",
     "output_type": "stream",
     "text": [
      "The variable LUSEEPY_PATH is undefined, will rely on PYTHONPATH\n",
      "The variable LUSEEOPSIM_PATH is undefined, will rely on PYTHONPATH\n",
      "/user/luseepy/opsim/notebooks\n",
      "/user/luseepy\n",
      "/user/refspec/cppyy\n",
      "/usr/local/lib/python310.zip\n",
      "/usr/local/lib/python3.10\n",
      "/usr/local/lib/python3.10/lib-dynload\n",
      "/usr/local/lib/python3.10/site-packages\n",
      "../\n"
     ]
    }
   ],
   "source": [
    "####### MR ADDED \n",
    "\n",
    "%reload_ext autoreload\n",
    "%autoreload 2\n",
    "\n",
    "# Standard imports and utility ---\n",
    "import  os, sys\n",
    "import  matplotlib.pyplot as plt\n",
    "\n",
    "try:\n",
    "    luseepy_path=os.environ['LUSEEPY_PATH']\n",
    "    print(f'''The LUSEEPY_PATH is defined in the environment: {luseepy_path}, will be added to sys.path''')\n",
    "    sys.path.append(luseepy_path)\n",
    "except:\n",
    "    print('The variable LUSEEPY_PATH is undefined, will rely on PYTHONPATH')\n",
    "\n",
    "try:\n",
    "    luseeopsim_path=os.environ['LUSEEOPSIM_PATH']\n",
    "    print(f'''The LUSEEOPSIM_PATH is defined in the environment: {luseeopsim_path}, will be added to sys.path''')\n",
    "    sys.path.append(luseeopsim_path)\n",
    "except:\n",
    "    print('The variable LUSEEOPSIM_PATH is undefined, will rely on PYTHONPATH')\n",
    "    sys.path.append('../')  # Add parent dir to path, to ensure at least basic functionality in the notebook\n",
    "\n",
    "for path_part in sys.path:\n",
    "    if path_part!='': print(f'''{path_part}''')"
   ]
  },
  {
   "cell_type": "code",
   "execution_count": 8,
   "metadata": {},
   "outputs": [],
   "source": [
    "# Jupyter magic for autoreload:\n",
    "%reload_ext autoreload\n",
    "%autoreload 2\n",
    "# Standard imports and utility ---\n",
    "import sys\n",
    "import h5py\n",
    "import yaml\n",
    "import numpy as np\n",
    "import matplotlib.pyplot as plt\n",
    "from   dateutil     import parser\n",
    "\n",
    "# astro imports\n",
    "from   astropy.time import Time\n",
    "\n",
    "# Core lusee software\n",
    "import lusee\n",
    "\n",
    "### Simple helper for plotting:\n",
    "def fin(plots):\n",
    "    for p in plots:\n",
    "        p.grid(True)\n",
    "        _ = p.legend()\n",
    "\n",
    "# Master verbosity:\n",
    "chatty = False\n",
    "\n",
    "if chatty:\n",
    "    print(\"---------------------------------- PATH ----------------------------------------\")\n",
    "    for path_part in sys.path:\n",
    "        if path_part!='': print(f'''{path_part}''')\n"
   ]
  },
  {
   "cell_type": "code",
   "execution_count": 9,
   "metadata": {},
   "outputs": [],
   "source": [
    "# Local imports\n",
    "from   nav import * # Astro/observation wrapper classes\n",
    "\n",
    "if chatty:\n",
    "    print('--------------------------------- VERSIONS -------------------------------------')\n",
    "    print(f'''simpy: {simpy.__version__}, lusee: {lusee.__version__}, sim: {sim.__version__}''')"
   ]
  },
  {
   "cell_type": "code",
   "execution_count": null,
   "metadata": {},
   "outputs": [],
   "source": [
    "prefab_file = \"../data/orbitals/20260110-20270115.hdf5\"\n",
    "f = h5py.File(prefab_file, \"r\")\n",
    "\n",
    "ds_meta = f[\"/meta/configuration\"] # Expect YAML payload\n",
    "conf    = yaml.safe_load(ds_meta[0,])\n",
    "metadata= yaml.dump(conf)\n",
    "\n",
    "prd = conf['period'] # we use the dateutil parser to convert from text to datetime\n",
    "t_start = Time(val=parser.parse(prd['start']),  format='datetime')\n",
    "t_end   = Time(val=parser.parse(prd['end']),    format='datetime')\n",
    "\n",
    "### -- Now on to the payload, the \"orbitals\"\n",
    "ds_data = f[\"/data/orbitals\"]\n",
    "da = np.array(ds_data[:]) # data array\n",
    "\n",
    "if chatty:\n",
    "    print('-----------------------------------------------')\n",
    "    print(f'''*** Metadata in the file {prefab_file} ***''')\n",
    "    print('-----------------------------------------------')\n",
    "    print(metadata)\n",
    "\n",
    "    print('------------------------- TIME ENDPOINTS -----------------------------------')\n",
    "    print(t_start.mjd, t_end.mjd)\n",
    "    print('----------------------------------------------------------------------------')\n",
    "\n",
    "    print(f'''Shape of the data payload: {da.shape}''')\n",
    "    print('-----------------------------------------------')\n",
    "    print(f'''*** Data payload in the file {prefab_file} ***''')\n",
    "    print('-----------------------------------------------')\n",
    "    print(f'''Shape of the data payload: {da.shape}''')\n",
    "\n",
    "    # Print slices if necessary: # print(data_array[0:3,1:2]) # print(data_array[:,1:2])\n",
    "    print(da[0:3,:])"
   ]
  },
  {
   "cell_type": "code",
   "execution_count": null,
   "metadata": {},
   "outputs": [],
   "source": [
    "mySun = Sun(da[:,0], da[:,1] , da[:,2])\n",
    "mySat = Sat(da[:,0], da[:,3] , da[:,4])"
   ]
  },
  {
   "cell_type": "code",
   "execution_count": null,
   "metadata": {},
   "outputs": [],
   "source": [
    "fig, (p1, p2) = plt.subplots(1,2)\n",
    "fig.suptitle('Sun and satellite positions', fontsize=20)\n",
    "plt.rcParams[\"figure.figsize\"] = [20., 8.]\n",
    "plt.rcParams[\"figure.autolayout\"] = True\n",
    "\n",
    "p1.set_xlabel('Time (MJD)')\n",
    "p2.set_xlabel('Time (MJD)')\n",
    "\n",
    "p1.plot(mySat.mjd, mySat.alt,  color=\"orange\", label=\"Sat Alt\")\n",
    "p1.plot(mySun.mjd, mySun.alt,  color=\"blue\",   label=\"Sun Alt\")\n",
    "\n",
    "p2.plot(mySat.mjd, mySat.az, color=\"magenta\",label=\"Sat Az\")\n",
    "p2.plot(mySun.mjd, mySun.az, color=\"red\",    label=\"Sun Az\")\n",
    "\n",
    "fin((p1, p2))"
   ]
  },
  {
   "cell_type": "code",
   "execution_count": 3,
   "metadata": {},
   "outputs": [
    {
     "ename": "NameError",
     "evalue": "name 'mySun' is not defined",
     "output_type": "error",
     "traceback": [
      "\u001b[0;31m---------------------------------------------------------------------------\u001b[0m",
      "\u001b[0;31mNameError\u001b[0m                                 Traceback (most recent call last)",
      "Cell \u001b[0;32mIn[3], line 11\u001b[0m\n\u001b[1;32m      8\u001b[0m p2\u001b[38;5;241m.\u001b[39mset_xlabel(\u001b[38;5;124m'\u001b[39m\u001b[38;5;124mTime (MJD)\u001b[39m\u001b[38;5;124m'\u001b[39m)\n\u001b[1;32m      9\u001b[0m p3\u001b[38;5;241m.\u001b[39mset_xlabel(\u001b[38;5;124m'\u001b[39m\u001b[38;5;124mLunar Clock\u001b[39m\u001b[38;5;124m'\u001b[39m)\n\u001b[0;32m---> 11\u001b[0m a \u001b[38;5;241m=\u001b[39m \u001b[43mmySun\u001b[49m\u001b[38;5;241m.\u001b[39mclocks\n\u001b[1;32m     13\u001b[0m p1\u001b[38;5;241m.\u001b[39mplot(mySun\u001b[38;5;241m.\u001b[39mmjd, mySun\u001b[38;5;241m.\u001b[39mday, color\u001b[38;5;241m=\u001b[39m\u001b[38;5;124m\"\u001b[39m\u001b[38;5;124mred\u001b[39m\u001b[38;5;124m\"\u001b[39m,     label\u001b[38;5;241m=\u001b[39m\u001b[38;5;124m\"\u001b[39m\u001b[38;5;124mSun Day Condition\u001b[39m\u001b[38;5;124m\"\u001b[39m)\n\u001b[1;32m     14\u001b[0m p1\u001b[38;5;241m.\u001b[39mplot(mySun\u001b[38;5;241m.\u001b[39mmjd, a\u001b[38;5;241m/\u001b[39m\u001b[38;5;241m24.0\u001b[39m,    color\u001b[38;5;241m=\u001b[39m\u001b[38;5;124m\"\u001b[39m\u001b[38;5;124mblue\u001b[39m\u001b[38;5;124m\"\u001b[39m,    label\u001b[38;5;241m=\u001b[39m\u001b[38;5;124m\"\u001b[39m\u001b[38;5;124mLunar Clock scaled by 24\u001b[39m\u001b[38;5;124m\"\u001b[39m)\n",
      "\u001b[0;31mNameError\u001b[0m: name 'mySun' is not defined"
     ]
    },
    {
     "data": {
      "image/png": "[encoded data removed]",
      "text/plain": [
       "<Figure size 640x480 with 3 Axes>"
      ]
     },
     "metadata": {},
     "output_type": "display_data"
    }
   ],
   "source": [
    "fig, (p1, p2, p3) = plt.subplots(1,3)\n",
    "fig.suptitle('Sun, Temperature, Diviner T vs lunar clock', fontsize=20)\n",
    "plt.rcParams[\"figure.figsize\"] = [20., 8.]\n",
    "plt.rcParams[\"figure.autolayout\"] = True\n",
    "\n",
    "\n",
    "p1.set_xlabel('Time (MJD)')\n",
    "p2.set_xlabel('Time (MJD)')\n",
    "p3.set_xlabel('Lunar Clock')\n",
    "\n",
    "a = mySun.clocks\n",
    "\n",
    "p1.plot(mySun.mjd, mySun.day, color=\"red\",     label=\"Sun Day Condition\")\n",
    "p1.plot(mySun.mjd, a/24.0,    color=\"blue\",    label=\"Lunar Clock scaled by 24\")\n",
    "\n",
    "p2.plot(mySat.mjd, mySun.regolith_temperature, label=\"Temperature\", color=\"orange\")\n",
    "p2.plot(mySun.mjd, 100.*a/24.0, color=\"blue\",  label=\"Lunar Clock scaled by 100/24\")\n",
    "\n",
    "p3.plot(mySun.regolith_temperature_data[0], mySun.regolith_temperature_data[1], label=\"Diviner Temperature (K)\")\n",
    "\n",
    "fin((p1, p2, p3))\n"
   ]
  },
  {
   "cell_type": "code",
   "execution_count": 4,
   "metadata": {},
   "outputs": [
    {
     "ename": "NameError",
     "evalue": "name 'mySun' is not defined",
     "output_type": "error",
     "traceback": [
      "\u001b[0;31m---------------------------------------------------------------------------\u001b[0m",
      "\u001b[0;31mNameError\u001b[0m                                 Traceback (most recent call last)",
      "Cell \u001b[0;32mIn[4], line 1\u001b[0m\n\u001b[0;32m----> 1\u001b[0m \u001b[38;5;28mprint\u001b[39m(\u001b[38;5;28mlen\u001b[39m(\u001b[43mmySun\u001b[49m\u001b[38;5;241m.\u001b[39mmjd))\n\u001b[1;32m      2\u001b[0m \u001b[38;5;28mprint\u001b[39m(mySun\u001b[38;5;241m.\u001b[39mmjd_crossings)\n",
      "\u001b[0;31mNameError\u001b[0m: name 'mySun' is not defined"
     ]
    }
   ],
   "source": [
    "print(len(mySun.mjd))\n",
    "print(mySun.mjd_crossings)"
   ]
  },
  {
   "cell_type": "code",
   "execution_count": 8,
   "metadata": {},
   "outputs": [
    {
     "name": "stdout",
     "output_type": "stream",
     "text": [
      "61050.833333333336 61420.09375\n",
      "0.7224305428626678\n",
      "[61050.86868598 61065.72353186 61080.49759565 61095.28871127\n",
      " 61110.10607484 61124.82090342 61139.67409097 61154.32213673\n",
      " 61169.1932571  61183.80113901 61198.66735677 61213.27043242\n",
      " 61228.11036194 61242.7439387  61257.54323774 61272.23481418\n",
      " 61286.98992545 61301.75292538 61316.47239967 61331.30199762\n",
      " 61346.00497064 61360.87760738 61375.58913827 61390.46755808\n",
      " 61405.21145806 61420.05570304]\n"
     ]
    }
   ],
   "source": [
    "# Test the clock.\n",
    "\n",
    "print(mySun.mjd[0], mySun.mjd[-1])\n",
    "print(mySun.clock(61074.0))\n",
    "print(mySun.mjd_crossings)\n"
   ]
  }
 ],
 "metadata": {
  "kernelspec": {
   "display_name": "Python 3 (ipykernel)",
   "language": "python",
   "name": "python3"
  },
  "language_info": {
   "codemirror_mode": {
    "name": "ipython",
    "version": 3
   },
   "file_extension": ".py",
   "mimetype": "text/x-python",
   "name": "python",
   "nbconvert_exporter": "python",
   "pygments_lexer": "ipython3",
   "version": "3.10.1"
  }
 },
 "nbformat": 4,
 "nbformat_minor": 4
}
