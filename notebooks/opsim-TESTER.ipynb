{
 "cells": [
  {
   "cell_type": "markdown",
   "metadata": {},
   "source": [
    "# OpSim -- the updated simulation notebook\n",
    "\n",
    "## About\n",
    "\n",
    "This notebook is running the LuSEE-Night simulations, as a part of \"Conops\" R&D. Notes:\n",
    "* Celestial bodies: data is read from prefabricated files in HDF5 format, containing the pre-calculated Sun and the two Satellites' positions as time series.\n",
    "* The time axis in the time series is defined in units of _MJD_\n",
    "* The _lunar clock_ is an auxiliary variable which defines a \"lunar day\" as 24 \"lunar hours\", used mainly to refer to the temperature data obtained from the __Diviner__\n"
   ]
  },
  {
   "cell_type": "code",
   "execution_count": null,
   "metadata": {},
   "outputs": [],
   "source": []
  },
  {
   "cell_type": "code",
   "execution_count": 1,
   "metadata": {
    "scrolled": true
   },
   "outputs": [
    {
     "name": "stdout",
     "output_type": "stream",
     "text": [
      "The variable LUSEEPY_PATH is undefined, will rely on PYTHONPATH\n",
      "The variable LUSEEOPSIM_PATH is undefined, will rely on PYTHONPATH\n",
      "/user/luseepy/opsim/notebooks\n",
      "/user/luseepy\n",
      "/user/refspec/cppyy\n",
      "/usr/local/lib/python310.zip\n",
      "/usr/local/lib/python3.10\n",
      "/usr/local/lib/python3.10/lib-dynload\n",
      "/usr/local/lib/python3.10/site-packages\n",
      "../\n"
     ]
    }
   ],
   "source": [
    "# Jupyter magic for autoreload:\n",
    "%reload_ext autoreload\n",
    "%autoreload 2\n",
    "\n",
    "# Standard imports and utility ---\n",
    "import  os, sys\n",
    "import  matplotlib.pyplot as plt\n",
    "\n",
    "try:\n",
    "    luseepy_path=os.environ['LUSEEPY_PATH']\n",
    "    print(f'''The LUSEEPY_PATH is defined in the environment: {luseepy_path}, will be added to sys.path''')\n",
    "    sys.path.append(luseepy_path)\n",
    "except:\n",
    "    print('The variable LUSEEPY_PATH is undefined, will rely on PYTHONPATH')\n",
    "\n",
    "try:\n",
    "    luseeopsim_path=os.environ['LUSEEOPSIM_PATH']\n",
    "    print(f'''The LUSEEOPSIM_PATH is defined in the environment: {luseeopsim_path}, will be added to sys.path''')\n",
    "    sys.path.append(luseeopsim_path)\n",
    "except:\n",
    "    print('The variable LUSEEOPSIM_PATH is undefined, will rely on PYTHONPATH')\n",
    "    sys.path.append('../')  # Add parent dir to path, to ensure at least basic functionality in the notebook\n",
    "\n",
    "for path_part in sys.path:\n",
    "    if path_part!='': print(f'''{path_part}''')"
   ]
  },
  {
   "cell_type": "code",
   "execution_count": 2,
   "metadata": {},
   "outputs": [],
   "source": [
    "import  lusee        # Core lusee software\n",
    "import simpy \n",
    "from    nav import * # Astro/observation wrapper classes\n",
    "\n",
    "from    utils.timeconv import *\n",
    "from scipy.optimize import curve_fit\n",
    "#import notebooks_git\n",
    "#from notebooks_git.transfer_rates import transfer_rates"
   ]
  },
  {
   "cell_type": "code",
   "execution_count": null,
   "metadata": {},
   "outputs": [],
   "source": []
  },
  {
   "cell_type": "markdown",
   "metadata": {},
   "source": [
    "\n",
    "\n",
    "d_ang = 2\n",
    "d_dist = 50\n",
    "ang_l = np.arange(30,91,d_ang)\n",
    "dist_l = np.arange(1000,9500,d_dist)\n",
    "rate_arr = np.array([[transfer_rates.get_rate(d_,a_,zero_ext_gain=False) for d_ in dist_l] for a_ in ang_l])\n",
    "rate_arr0 = np.array([[transfer_rates.get_rate(d_,a_,zero_ext_gain=True) for d_ in dist_l] for a_ in ang_l])\n",
    "#print(rate_arr)"
   ]
  },
  {
   "cell_type": "code",
   "execution_count": 3,
   "metadata": {},
   "outputs": [
    {
     "name": "stdout",
     "output_type": "stream",
     "text": [
      "---------------------------------- PATH ----------------------------------------\n",
      "/user/luseepy/opsim/notebooks\n",
      "/user/luseepy\n",
      "/user/refspec/cppyy\n",
      "/usr/local/lib/python310.zip\n",
      "/usr/local/lib/python3.10\n",
      "/usr/local/lib/python3.10/lib-dynload\n",
      "/usr/local/lib/python3.10/site-packages\n",
      "../\n",
      "--------------------------------- VERSIONS -------------------------------------\n",
      "simpy: 4.1.1, lusee: 1.0, sim: 0.1\n",
      "Shape of the data payload: (35450, 7)\n",
      "dimensions None\n"
     ]
    },
    {
     "ename": "IndexError",
     "evalue": "index 7 is out of bounds for axis 1 with size 7",
     "output_type": "error",
     "traceback": [
      "\u001b[0;31m---------------------------------------------------------------------------\u001b[0m",
      "\u001b[0;31mIndexError\u001b[0m                                Traceback (most recent call last)",
      "Cell \u001b[0;32mIn[3], line 26\u001b[0m\n\u001b[1;32m     23\u001b[0m until\u001b[38;5;241m=\u001b[39m\u001b[38;5;241m4600\u001b[39m\n\u001b[1;32m     24\u001b[0m \u001b[38;5;66;03m#2780\u001b[39;00m\n\u001b[0;32m---> 26\u001b[0m smltr \u001b[38;5;241m=\u001b[39m \u001b[43mSimulator\u001b[49m\u001b[43m(\u001b[49m\u001b[43morbitals\u001b[49m\u001b[43m,\u001b[49m\u001b[43m \u001b[49m\u001b[43mmodes\u001b[49m\u001b[43m,\u001b[49m\u001b[43m \u001b[49m\u001b[43mdevices\u001b[49m\u001b[43m,\u001b[49m\u001b[43m \u001b[49m\u001b[43mcomtable\u001b[49m\u001b[43m,\u001b[49m\u001b[43m \u001b[49m\u001b[43minitial_time\u001b[49m\u001b[38;5;241;43m=\u001b[39;49m\u001b[43minitial_time\u001b[49m\u001b[43m,\u001b[49m\u001b[43m \u001b[49m\u001b[43muntil\u001b[49m\u001b[38;5;241;43m=\u001b[39;49m\u001b[43muntil\u001b[49m\u001b[43m,\u001b[49m\u001b[43m \u001b[49m\u001b[43mverbose\u001b[49m\u001b[38;5;241;43m=\u001b[39;49m\u001b[38;5;28;43;01mTrue\u001b[39;49;00m\u001b[43m)\u001b[49m\n\u001b[1;32m     28\u001b[0m mjd_start   \u001b[38;5;241m=\u001b[39m smltr\u001b[38;5;241m.\u001b[39msun\u001b[38;5;241m.\u001b[39mmjd[initial_time]\n\u001b[1;32m     29\u001b[0m mjd_end     \u001b[38;5;241m=\u001b[39m smltr\u001b[38;5;241m.\u001b[39msun\u001b[38;5;241m.\u001b[39mmjd[until]\n",
      "File \u001b[0;32m/user/luseepy/opsim/notebooks/../sim/sim.py:64\u001b[0m, in \u001b[0;36mSimulator.__init__\u001b[0;34m(self, orbitals_f, modes_f, devices_f, comtable_f, initial_time, until, verbose)\u001b[0m\n\u001b[1;32m     60\u001b[0m \u001b[38;5;28mself\u001b[39m\u001b[38;5;241m.\u001b[39mdeltaT     \u001b[38;5;241m=\u001b[39m \u001b[38;5;28;01mNone\u001b[39;00m\n\u001b[1;32m     62\u001b[0m \u001b[38;5;66;03m# ---\u001b[39;00m\n\u001b[1;32m     63\u001b[0m \u001b[38;5;66;03m# Read all inputs\u001b[39;00m\n\u001b[0;32m---> 64\u001b[0m \u001b[38;5;28;43mself\u001b[39;49m\u001b[38;5;241;43m.\u001b[39;49m\u001b[43mread_orbitals\u001b[49m\u001b[43m(\u001b[49m\u001b[43m)\u001b[49m\n\u001b[1;32m     65\u001b[0m \u001b[38;5;28mself\u001b[39m\u001b[38;5;241m.\u001b[39mread_devices()\n\u001b[1;32m     66\u001b[0m \u001b[38;5;28mself\u001b[39m\u001b[38;5;241m.\u001b[39mread_modes()\n",
      "File \u001b[0;32m/user/luseepy/opsim/notebooks/../sim/sim.py:123\u001b[0m, in \u001b[0;36mSimulator.read_orbitals\u001b[0;34m(self)\u001b[0m\n\u001b[1;32m    121\u001b[0m \u001b[38;5;28mprint\u001b[39m(\u001b[38;5;124m'\u001b[39m\u001b[38;5;124mdimensions\u001b[39m\u001b[38;5;124m'\u001b[39m, \u001b[38;5;28mself\u001b[39m\u001b[38;5;241m.\u001b[39mlpf)\n\u001b[1;32m    122\u001b[0m \u001b[38;5;28mself\u001b[39m\u001b[38;5;241m.\u001b[39mlpf \u001b[38;5;241m=\u001b[39m Sat(da[:,\u001b[38;5;241m0\u001b[39m], da[:,\u001b[38;5;241m3\u001b[39m] , da[:,\u001b[38;5;241m4\u001b[39m],da[:,\u001b[38;5;241m5\u001b[39m])\n\u001b[0;32m--> 123\u001b[0m \u001b[38;5;28mself\u001b[39m\u001b[38;5;241m.\u001b[39mbge \u001b[38;5;241m=\u001b[39m Sat(da[:,\u001b[38;5;241m0\u001b[39m], da[:,\u001b[38;5;241m6\u001b[39m] , \u001b[43mda\u001b[49m\u001b[43m[\u001b[49m\u001b[43m:\u001b[49m\u001b[43m,\u001b[49m\u001b[38;5;241;43m7\u001b[39;49m\u001b[43m]\u001b[49m,da[:,\u001b[38;5;241m8\u001b[39m])\n",
      "\u001b[0;31mIndexError\u001b[0m: index 7 is out of bounds for axis 1 with size 7"
     ]
    }
   ],
   "source": [
    "import  sim # Main simulation module, which contains the Simulator class\n",
    "from    sim import Simulator\n",
    "\n",
    "chatty = True\n",
    "if chatty:\n",
    "    print(\"---------------------------------- PATH ----------------------------------------\")\n",
    "    for path_part in sys.path:\n",
    "        if path_part!='': print(f'''{path_part}''')\n",
    "\n",
    "    print('--------------------------------- VERSIONS -------------------------------------')\n",
    "    print(f'''simpy: {simpy.__version__}, lusee: {lusee.__version__}, sim: {sim.__version__}''')\n",
    "\n",
    "# Define paths in one place:\n",
    "orbitals    = \"../data/orbitals/20260110-20270115.hdf5\"\n",
    "modes       = \"../config/modes.yml\"\n",
    "devices     = \"../config/devices.yml\"\n",
    "\n",
    "#comtable    = \"../config/comtable-20260110-20270115.yml\"\n",
    "#comtable    = \"./simulator_log.yml\"\n",
    "comtable = None\n",
    "\n",
    "initial_time=2\n",
    "until=4600\n",
    "#2780\n",
    "\n",
    "smltr = Simulator(orbitals, modes, devices, comtable, initial_time=initial_time, until=until, verbose=True)\n",
    "\n",
    "mjd_start   = smltr.sun.mjd[initial_time]\n",
    "mjd_end     = smltr.sun.mjd[until]\n",
    "\n",
    "if chatty:\n",
    "    print(f'''Initial time in ticks: {initial_time}, mjd: {mjd_start}, datetime: {mjd2dt(mjd_start)}, Sun Alt: {smltr.sun.alt[initial_time]}''')\n",
    "    print(f'''Until time in ticks: {until}, mjd: {mjd_end}, datetime: {mjd2dt(mjd_end)}''')\n",
    "    print(smltr.schedule)\n"
   ]
  },
  {
   "cell_type": "code",
   "execution_count": 4,
   "metadata": {},
   "outputs": [
    {
     "ename": "NameError",
     "evalue": "name 'smltr' is not defined",
     "output_type": "error",
     "traceback": [
      "\u001b[0;31m---------------------------------------------------------------------------\u001b[0m",
      "\u001b[0;31mNameError\u001b[0m                                 Traceback (most recent call last)",
      "Cell \u001b[0;32mIn[4], line 1\u001b[0m\n\u001b[0;32m----> 1\u001b[0m \u001b[43msmltr\u001b[49m\u001b[38;5;241m.\u001b[39mpower_info()\n\u001b[1;32m      4\u001b[0m \u001b[38;5;66;03m#print(comtable)\u001b[39;00m\n\u001b[1;32m      5\u001b[0m \u001b[38;5;66;03m#smltr.__dict__\u001b[39;00m\n",
      "\u001b[0;31mNameError\u001b[0m: name 'smltr' is not defined"
     ]
    }
   ],
   "source": [
    "smltr.power_info()\n",
    "\n",
    "\n",
    "#print(comtable)\n",
    "#smltr.__dict__"
   ]
  },
  {
   "cell_type": "markdown",
   "metadata": {},
   "source": [
    "---\n",
    "\n",
    "Visualize power consumption for each device, in different modes, in a bar chart (optional)"
   ]
  },
  {
   "cell_type": "code",
   "execution_count": null,
   "metadata": {},
   "outputs": [],
   "source": [
    "pwr_science = smltr.power_out(mode='science', return_dict=True)\n",
    "device_names = list(pwr_science.keys())\n",
    "\n",
    "for i in range(len(device_names)):\n",
    "    if device_names[i]=='spectrometer':\n",
    "        device_names[i]='spectr.'\n",
    "\n",
    "\n",
    "fig, plots = plt.subplots(2,2, figsize=(14,12))\n",
    "fig.suptitle('Power Consumption in Different Modes', fontsize=20)\n",
    "plt.rcParams[\"figure.figsize\"] = [18., 6.]\n",
    "\n",
    "clrs = [\"coral\",\"crimson\", \"cyan\", \"gold\", \"orange\", \"lime\", \"aquamarine\"]\n",
    "\n",
    "mode_list = [('maint',[]), ('maint',['TX']), ('science',[]), ('powersave',[]),  ]\n",
    "for i,mode_pair in enumerate(mode_list):\n",
    "    mode, cond = mode_pair\n",
    "    pwr = list(smltr.power_out(mode = mode, conditions = cond, return_dict=True, get_heat=False).values())\n",
    "    plots[i//2][i%2].bar(device_names, pwr, color=clrs,   label=\"Science\")\n",
    "    total_power = sum(pwr)\n",
    "    tx = '[TX]' if 'TX' in cond else ''\n",
    "    xlabel = f'{mode} {tx}: total power {total_power:.1f} W'\n",
    "    plots[i//2][i%2].set_xlabel(xlabel, fontsize=14)\n",
    "\n",
    "for l in plots:\n",
    "    for p in l:\n",
    "        p.set_ylabel('Power (W)', fontsize=12)\n",
    "        p.set_ylim(0,20)\n",
    "        p.grid(axis='y')\n",
    "        p.set_facecolor('ivory')\n"
   ]
  },
  {
   "cell_type": "markdown",
   "metadata": {},
   "source": [
    "---\n",
    "\n",
    "### Run the simulation"
   ]
  },
  {
   "cell_type": "code",
   "execution_count": null,
   "metadata": {},
   "outputs": [],
   "source": [
    "# Set verbose if needed:\n",
    "smltr.verbose = True # True\n",
    "smltr.simulate(create_command_table=True)\n",
    "comtable = '/tmp/current-command-table.yml'\n",
    "smltr.save_record(comtable)\n"
   ]
  },
  {
   "cell_type": "code",
   "execution_count": null,
   "metadata": {},
   "outputs": [],
   "source": [
    "## now run again with generated command table\n",
    "comtable = '/tmp/current-command-table.yml'\n",
    "smltr = Simulator(orbitals, modes, devices, comtable, initial_time=initial_time, until=until)\n",
    "smltr.verbose = True# True\n",
    "smltr.simulate()\n",
    "\n"
   ]
  },
  {
   "cell_type": "code",
   "execution_count": null,
   "metadata": {},
   "outputs": [],
   "source": [
    "smltr.monitor.__dict__"
   ]
  },
  {
   "cell_type": "markdown",
   "metadata": {},
   "source": [
    "---\n",
    "\n",
    "### Plot the results"
   ]
  },
  {
   "cell_type": "code",
   "execution_count": null,
   "metadata": {},
   "outputs": [],
   "source": [
    "mjd = smltr.sun.mjd\n",
    "\n",
    "fig, plots = plt.subplots(2,2, figsize=(15,10))\n",
    "\n",
    "fig.suptitle('Simulation', fontsize=20)\n",
    "\n",
    "plt.rcParams[\"figure.figsize\"] = [18., 6.]\n",
    "plt.rcParams[\"figure.autolayout\"] = True\n",
    "\n",
    "\n",
    "ylabels = ['Battery SOC', 'Power drawn by the hardware', 'Data volume stored in SSD', 'Box Temperature [C]']\n",
    "colors  = [\"blue\", \"red\", \"orange\", \"cyan\"]\n",
    "data    = (smltr.monitor.battery_SOC, smltr.monitor.power, smltr.monitor.ssd, smltr.monitor.boxtemp)\n",
    "\n",
    "mjd = smltr.sun.mjd\n",
    "\n",
    "xlo = mjd[smltr.initial_time]\n",
    "xhi = mjd[smltr.until] - 1\n",
    "\n",
    "plots = plots.flatten()\n",
    "\n",
    "for i in range(4):\n",
    "    p = plots[i]\n",
    "\n",
    "    p.plot(mjd, data[i], color=colors[i],   label=ylabels[i])\n",
    "    p.set_xlabel('Time (MJD)', fontsize=12)\n",
    "    p.set_ylabel(ylabels[i], fontsize=12)\n",
    "    p.set_xlim([xlo, xhi])\n",
    "    p.grid(True)\n",
    "    p.set_facecolor('ivory')\n",
    "\n",
    "plt.show()\n",
    "\n",
    "\n",
    "\n"
   ]
  },
  {
   "cell_type": "markdown",
   "metadata": {},
   "source": [
    "---\n",
    "\n",
    "### Optional -- some graphs.\n",
    "\n"
   ]
  },
  {
   "cell_type": "code",
   "execution_count": null,
   "metadata": {},
   "outputs": [],
   "source": [
    "# OPTIONAL PLOTS\n",
    "\n",
    "plt.rcParams[\"figure.figsize\"] = [15., 5.]\n",
    "\n",
    "# Get a handle on the sun and the satellite, in case needed for diagnostics\n",
    "mySun = smltr.sun\n",
    "myLpf = smltr.lpf\n",
    "myBge = smltr.bge\n",
    "\n",
    "print(mySun.N)\n",
    "\n",
    "fig, (p1, p2, p3) = plt.subplots(1,3)\n",
    "\n",
    "fig.suptitle('The Sun and the Sats', fontsize=20)\n",
    "plt.rcParams[\"figure.figsize\"] = [20., 8.]\n",
    "plt.rcParams[\"figure.autolayout\"] = True\n",
    "\n",
    "\n",
    "p1.set_xlabel('Time (MJD)')\n",
    "p2.set_xlabel('Time (MJD)')\n",
    "\n",
    "p1.plot(myLpf.mjd, myLpf.alt,  color=\"orange\", label=\"Lpf Alt\")\n",
    "p1.plot(mySun.mjd, mySun.alt,  color=\"blue\",   label=\"Sun Alt\")\n",
    "\n",
    "p2.plot(myLpf.mjd, myLpf.az, color=\"magenta\",label=\"Lpf Az\")\n",
    "p2.plot(mySun.mjd, mySun.az, color=\"red\",    label=\"Sun Az\")\n",
    "\n",
    "\n",
    "p3.plot(myLpf.mjd, myLpf.alt,  color=\"blue\", label=\"Lpf Alt\")\n",
    "p3.plot(myBge.mjd, myBge.alt,  color=\"orange\", label=\"Bge Alt\")\n",
    "\n",
    "p1.grid(True)\n",
    "_ = p1.legend()\n",
    "\n",
    "p2.grid(True)\n",
    "_ = p2.legend()\n",
    "\n",
    "p3.grid(True)\n",
    "_ = p3.legend()\n",
    "p3.set_xlim(61110,61114)"
   ]
  },
  {
   "cell_type": "code",
   "execution_count": null,
   "metadata": {},
   "outputs": [],
   "source": [
    "# OPTIONAL\n",
    "\n",
    "\n",
    "plt.rcParams[\"figure.figsize\"] = [10., 10.]\n",
    "# plt.rcParams[\"figure.autolayout\"] = True\n",
    "\n",
    "ax=plt.subplot()\n",
    "\n",
    "ax.plot(mySun.mjd, smltr.controller.power,  color=\"red\",    label=\"Panel power\")\n",
    "plt.xlabel(\"Time (MJD)\")\n",
    "plt.ylabel(\"Power (W)\")\n",
    "plt.xlim(61080, 61100)\n",
    "ax.grid(True)\n"
   ]
  },
  {
   "cell_type": "code",
   "execution_count": null,
   "metadata": {},
   "outputs": [],
   "source": [
    "mySun.alt.max()/np.pi*180"
   ]
  },
  {
   "cell_type": "code",
   "execution_count": null,
   "metadata": {},
   "outputs": [],
   "source": [
    "\n"
   ]
  },
  {
   "cell_type": "code",
   "execution_count": null,
   "metadata": {},
   "outputs": [],
   "source": []
  },
  {
   "cell_type": "code",
   "execution_count": null,
   "metadata": {},
   "outputs": [],
   "source": []
  },
  {
   "cell_type": "code",
   "execution_count": null,
   "metadata": {},
   "outputs": [],
   "source": []
  }
 ],
 "metadata": {
  "kernelspec": {
   "display_name": "Python 3 (ipykernel)",
   "language": "python",
   "name": "python3"
  },
  "language_info": {
   "codemirror_mode": {
    "name": "ipython",
    "version": 3
   },
   "file_extension": ".py",
   "mimetype": "text/x-python",
   "name": "python",
   "nbconvert_exporter": "python",
   "pygments_lexer": "ipython3",
   "version": "3.10.1"
  }
 },
 "nbformat": 4,
 "nbformat_minor": 4
}
