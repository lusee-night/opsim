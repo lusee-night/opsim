{
 "cells": [
  {
   "cell_type": "code",
   "execution_count": 1,
   "id": "ade5a5fc-f8a2-433e-a860-ede9073bbc50",
   "metadata": {},
   "outputs": [],
   "source": [
    "import  os, sys\n",
    "import  matplotlib.pyplot as plt\n",
    "import yaml\n",
    "import numpy as np\n",
    "\n",
    "sys.path.append('../')  # Add parent dir to path\n",
    "\n",
    "import hardware"
   ]
  },
  {
   "cell_type": "code",
   "execution_count": 2,
   "id": "8cbb15b9-1e37-40dd-bffb-97e7f225c92f",
   "metadata": {},
   "outputs": [],
   "source": [
    "import pandas as pd"
   ]
  },
  {
   "cell_type": "code",
   "execution_count": 3,
   "id": "701892b6-4998-40d0-a101-e1b4ee3edd3b",
   "metadata": {},
   "outputs": [
    {
     "name": "stdout",
     "output_type": "stream",
     "text": [
      "{'initial': 228.9405, 'capacity': 240.99, 'charge_unit': 'Ah', 'capacity_fade': 0.0063, 'self_discharge': 0.01, 'VOC_table': 'data/hardware/battery/battery_VOC.dat', 'VOC_table_cols': 'SOC VOC@0 R@0 VOC@20 R@20 VOC@40 R@40'}\n"
     ]
    }
   ],
   "source": [
    "config = yaml.safe_load(open('../config/devices.yml','r'))\n",
    "config = config['battery']\n",
    "config['initial']=config['capacity']*0.95 # start with full \n",
    "print(config)"
   ]
  },
  {
   "cell_type": "code",
   "execution_count": 4,
   "id": "00591ea9-54e6-45f6-9bc8-863cec5a0d0a",
   "metadata": {},
   "outputs": [
    {
     "name": "stdout",
     "output_type": "stream",
     "text": [
      "0    Nodes/Times    PMU Q_SUM   PFPS_Q_SUM PDU_Q_SUM DCB_Q_SUM  \\\n",
      "1            0.0         1.48          8.0       0.6       2.0   \n",
      "2       0.277778         1.48          8.0       0.6       2.0   \n",
      "3       0.555556         1.48          8.0       0.6       2.0   \n",
      "4       0.833333         1.48          8.0       0.6       2.0   \n",
      "5       1.111111         1.48          8.0       0.6       2.0   \n",
      "...          ...          ...          ...       ...       ...   \n",
      "2361  655.555556         1.48          8.0       0.6       2.0   \n",
      "2362  655.716667         1.48          8.0       0.6       2.0   \n",
      "2363         MAX         1.48            8       0.6         2   \n",
      "2364         MIN         0.92            1       0.6         2   \n",
      "2365         AVG  1.193361558  5.695596952       0.6         2   \n",
      "\n",
      "0    Spectrometer_Q_SUM Pre-Amp 1 Q_SUM Pre-Amp 2 Q_SUM Pre-Amp 3 Q_SUM  \\\n",
      "1                   0.0            0.86            0.86            0.86   \n",
      "2                   0.0            0.86            0.86            0.86   \n",
      "3                   0.0            0.86            0.86            0.86   \n",
      "4                   0.0            0.86            0.86            0.86   \n",
      "5                   0.0            0.86            0.86            0.86   \n",
      "...                 ...             ...             ...             ...   \n",
      "2361               9.78            0.86            0.86            0.86   \n",
      "2362                0.0            0.86            0.86            0.86   \n",
      "2363               9.78            0.86            0.86            0.86   \n",
      "2364                  0            0.86            0.86            0.86   \n",
      "2365        6.012091448            0.86            0.86            0.86   \n",
      "\n",
      "0    Pre-Amp 4 Q_SUM    Radio_SUM  NaN Nodes/Times   POHTR_BATT  \\\n",
      "1               0.86        15.04  NaN         0.0          0.0   \n",
      "2               0.86        15.04  NaN    0.277778          0.0   \n",
      "3               0.86        15.04  NaN    0.555556          0.0   \n",
      "4               0.86        15.04  NaN    0.833333          0.0   \n",
      "5               0.86        15.04  NaN    1.111111          0.0   \n",
      "...              ...          ...  ...         ...          ...   \n",
      "2361            0.86          0.0  NaN  655.555556          0.0   \n",
      "2362            0.86        15.04  NaN  655.716667          0.0   \n",
      "2363            0.86        15.04  NaN         MAX           15   \n",
      "2364            0.86            0  NaN         MIN            0   \n",
      "2365            0.86  2.043928874  NaN         AVG  2.254445385   \n",
      "\n",
      "0    Eclipse Heater Power, W 4.27  Summed_all  \n",
      "1                        NaN  NaN   30.560000  \n",
      "2                        NaN  NaN   30.560000  \n",
      "3                        NaN  NaN   30.560000  \n",
      "4                        NaN  NaN   30.560000  \n",
      "5                        NaN  NaN   30.560000  \n",
      "...                      ...  ...         ...  \n",
      "2361                     NaN  NaN   25.300000  \n",
      "2362                     NaN  NaN   30.560000  \n",
      "2363                     NaN  NaN   40.340000  \n",
      "2364                     NaN  NaN    7.960000  \n",
      "2365                     NaN  NaN   20.984979  \n",
      "\n",
      "[2365 rows x 17 columns]\n"
     ]
    }
   ],
   "source": [
    "ryan_pvt = pd.read_csv('ColdNight1_PowerVsTime.csv',delimiter=',', header= None)\n",
    "ryan_pvt= ryan_pvt.T\n",
    "ryan_pvt.columns = ryan_pvt.iloc[0]\n",
    "#ryan_pvt = ryan_pvt.reset_index(drop=True)\n",
    "ryan_pvt = ryan_pvt.drop(0)\n",
    "ryan_pvt['Summed_all'] = ryan_pvt['PMU Q_SUM'].astype(float)+ryan_pvt['PFPS_Q_SUM'].astype(float)+ryan_pvt['PDU_Q_SUM'].astype(float)+ryan_pvt['DCB_Q_SUM'].astype(float)+ryan_pvt['Spectrometer_Q_SUM'].astype(float)+ryan_pvt['Pre-Amp 1 Q_SUM'].astype(float)+ryan_pvt['Pre-Amp 2 Q_SUM'].astype(float)+ryan_pvt['Pre-Amp 3 Q_SUM'].astype(float) +ryan_pvt['Pre-Amp 4 Q_SUM'].astype(float)+ryan_pvt['Radio_SUM'].astype(float)\n",
    "time_ryan = ryan_pvt['Nodes/Times'].iloc[:, 0] \n",
    "print(ryan_pvt)"
   ]
  },
  {
   "cell_type": "code",
   "execution_count": 5,
   "id": "7163ae7f-16d8-4eae-965c-1b94b8816d24",
   "metadata": {},
   "outputs": [
    {
     "name": "stdout",
     "output_type": "stream",
     "text": [
      "1              0.0\n",
      "2         0.277778\n",
      "3         0.555556\n",
      "4         0.833333\n",
      "5         1.111111\n",
      "           ...    \n",
      "2358    654.722222\n",
      "2359         655.0\n",
      "2360    655.277778\n",
      "2361    655.555556\n",
      "2362    655.716667\n",
      "Name: Nodes/Times, Length: 2362, dtype: object\n"
     ]
    }
   ],
   "source": [
    "print(time_ryan[0:2362])\n",
    "time_ryan = time_ryan[0:2362]"
   ]
  },
  {
   "cell_type": "code",
   "execution_count": 8,
   "id": "14961b55-95ae-424b-b13c-5729dd8253be",
   "metadata": {},
   "outputs": [
    {
     "data": {
      "image/png": "[encoded data removed]",
      "text/plain": [
       "<Figure size 640x480 with 1 Axes>"
      ]
     },
     "metadata": {},
     "output_type": "display_data"
    }
   ],
   "source": [
    "colors = ['k','g','b']\n",
    "temperatures = [0, 20, 40]\n",
    "plt.figure()\n",
    "\n",
    "for j,T in enumerate(temperatures): ## we need this from Ryan\n",
    "    B = hardware.Battery(config, verbose=False)\n",
    "    B.set_temperature(T)\n",
    "    energy = 0\n",
    "    deltaT_list= []\n",
    "    soc_values = []\n",
    "    #while (B.SOC()>0.05):\n",
    "    for i in range(len(time_ryan) - 1):\n",
    "        deltaT = time_ryan.iloc[i+1] -time_ryan.iloc[i]\n",
    "        deltaP = ryan_pvt['Summed_all'].iloc[i+1] -ryan_pvt['Summed_all'].iloc[i]\n",
    "        #print(deltaT, deltaP)\n",
    "        deltaT_list.append(deltaT)\n",
    "        P = deltaP\n",
    "        B.apply_power(-P,deltaT) # discharge at 1W\n",
    "        energy += deltaT*P\n",
    "        soc_values.append(B.SOC())\n",
    "    #if B.SOC() <= 0.05:\n",
    "        #break\n",
    "    plt.plot(deltaT_list, soc_values, color = colors[j],label=T)\n",
    "plt.ylabel('SOC')\n",
    "plt.xlabel('Time (hrs)')\n",
    "plt.legend()\n",
    "plt.show() \n",
    "\n"
   ]
  },
  {
   "cell_type": "code",
   "execution_count": null,
   "id": "1341bdbb-3caf-4267-a0c6-3a57b755d52f",
   "metadata": {},
   "outputs": [],
   "source": []
  }
 ],
 "metadata": {
  "kernelspec": {
   "display_name": "Python 3 (ipykernel)",
   "language": "python",
   "name": "python3"
  },
  "language_info": {
   "codemirror_mode": {
    "name": "ipython",
    "version": 3
   },
   "file_extension": ".py",
   "mimetype": "text/x-python",
   "name": "python",
   "nbconvert_exporter": "python",
   "pygments_lexer": "ipython3",
   "version": "3.10.1"
  }
 },
 "nbformat": 4,
 "nbformat_minor": 5
}
